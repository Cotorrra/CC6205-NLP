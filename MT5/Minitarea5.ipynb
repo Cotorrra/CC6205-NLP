{
 "nbformat": 4,
 "nbformat_minor": 0,
 "metadata": {
  "colab": {
   "name": "Minitarea5.ipynb",
   "provenance": [],
   "collapsed_sections": [],
   "toc_visible": true
  },
  "kernelspec": {
   "name": "pycharm-959495b3",
   "language": "python",
   "display_name": "PyCharm (CC6205-NLP)"
  },
  "language_info": {
   "codemirror_mode": {
    "name": "ipython",
    "version": 3
   },
   "file_extension": ".py",
   "mimetype": "text/x-python",
   "name": "python",
   "nbconvert_exporter": "python",
   "pygments_lexer": "ipython3",
   "version": "3.6.9"
  },
  "pycharm": {
   "stem_cell": {
    "cell_type": "raw",
    "source": [],
    "metadata": {
     "collapsed": false
    }
   }
  }
 },
 "cells": [
  {
   "cell_type": "markdown",
   "metadata": {
    "ExecuteTime": {
     "end_time": "2020-03-19T18:30:18.109327Z",
     "start_time": "2020-03-19T18:30:18.103344Z"
    },
    "colab_type": "text",
    "id": "q5CSRY4oNCHK"
   },
   "source": [
    "\n",
    "# Minitarea 5\n",
    "\n",
    "\n",
    "-----------------\n",
    "\n",
    "Nombre: Joaquín Ignacio Pérez Araya\n",
    "\n",
    "Fecha de Entrega: 30/07/20\n",
    "\n",
    "\n",
    "## Instrucciones\n",
    "\n",
    "- El ejercicio consiste en:\n",
    "\n",
    "    - Responder preguntas relativas a los contenidos vistos en los vídeos y slides de las clases. \n",
    "    \n",
    "    - Utilizar la librería Transformers\n",
    "\n",
    "- La minitarea es INDIVIDUAL.\n",
    "\n",
    "- Está demás decir que no se admiten copias, ni de código, ni de respuestas escritas.\n",
    "\n",
    "- La entrega debe ser por u-cursos.\n",
    "\n",
    "- Atrasos: se descontará un punto por día hábil de atraso tanto para las mini-tareas como para las competencias.\n",
    "\n",
    "- En el horario de auxiliar se abrirán horarios de consulta en donde podrán preguntar acerca del ejercicio y en general, de todo el curso. \n",
    "\n",
    "- Cada sección tiene un punto base y se evalúa sobre 6 puntos.\n",
    "\n",
    "- Al revisar, tu código será ejecutado. Verifica que tu entrega no tenga errores."
   ]
  },
  {
   "cell_type": "markdown",
   "metadata": {
    "colab_type": "text",
    "id": "G4wYf0vgnbTv"
   },
   "source": [
    "## Preguntas Teóricas\n",
    "Para estas preguntas no es necesario implementar código, pero pueden utilizar pseudo código."
   ]
  },
  {
   "cell_type": "markdown",
   "metadata": {
    "colab_type": "text",
    "id": "B5hUG6-8ngoK"
   },
   "source": [
    "### Arquitecturas de Redes Neuronales"
   ]
  },
  {
   "cell_type": "markdown",
   "metadata": {
    "colab_type": "text",
    "id": "irsqBVmCnx3M"
   },
   "source": [
    "**Pregunta 1**: Explique el principal problema de las redes Elman recurrentes. Explique cada compuerta de las redes LSTM y la GRU.  (1,5 puntos)\n",
    "\n",
    "**Respuesta**:\n",
    "El principal problema de las S-RNN o redes Elman, es que al realizar el cálculo de la back-\n",
    "propagation durante el entrenamiento los gradientes de la función de pédida, se va desvaneciendo\n",
    "al ir profundizando el cálculo en la red. Por lo que el principio de la red no es contabilizada.\n",
    "Las redes LSTM y GRU resuelven este problema por medio de compuertas.\n",
    "\n",
    "Las redes LSTM tienen 3 compuertas: La compuerta $f$, que es la que encarga de qué valores se mantienen del estado\n",
    "anterior, la compuerta $i$ es la compuerta que se encarga de filta qué cosas del input importan y la compuerta $o$\n",
    "que es la compuerta que se encarga de determinar el output de la RNN.\n",
    "\n",
    "Las redes GRU se utilizan 2 compuertas solamente: La compuerta $z$ disyuntivamente selecciona qué atributos del estado\n",
    "anterior y del candidato a estado nuevo son los que realmente se convierten en el estado nuevo. La compuerta $r$ selecciona\n",
    "la parte del estado antetior para crear el candidato a estado nuevo."
   ]
  },
  {
   "cell_type": "markdown",
   "metadata": {
    "colab_type": "text",
    "id": "G5FaWqBVvL90"
   },
   "source": [
    "**Pregunta 2**: Explique cuales son las diferencias entre las tres arquitecturas de sequence to sequence vistas en clases (Encoder-Decoder con RNN, Encoder-Decoder con RNN y Attention, y el Transformer) (1,5 puntos)\n",
    "\n",
    "**Respuesta**:\n",
    "La diferencia principal entre estas arquitecturas son los elementos que tienen éstas,\n",
    "las encoder-decoder con RNN tiene dos redes neuronales recurrentes conectadas\n",
    "de forma para codificar un input usando una red y decodificar el output con otra red.\n",
    "La arquitectura Encoder-Decoder RNN + Attentión, utiliza el mismo modelo anterior, salvo\n",
    "que utiliza un mecanismo de \"atención\", de aprender qué estados ocultos son importantes para\n",
    "el decoder, modelando así la importancia del contexto de un texto. Finalmente la arquitectura\n",
    "Transformer es utilizar únicamente el mecanismo de atención con el input. "
   ]
  },
  {
   "cell_type": "markdown",
   "metadata": {
    "id": "i9q0SrZS8CqX",
    "colab_type": "text"
   },
   "source": [
    "**Pregunta 3**: ¿Cúal es el principal diferencia entre los Embeddings contextualizados (por ejemplo BERT) vs. los Embeddings estáticos (por ejemplo Word2Vec)? (1,5 puntos)\n",
    "\n",
    "**Respuesta**: La principal diferencia está que para una determinada palabra los embeddings estáticos tienen\n",
    "un único vector que la representa, esto puede llevar que palabras con múltiples significados según su contexto\n",
    " tengan un único valor asociado lo que puede llevar a errores si los significados distintos suelen ser muy muy distintos.\n",
    " Los Embeddings contextualizados, por ende, buscan tener una infinidad de vectores asociados a una palabra determinada\n",
    " según las palabras que la rodean, para darle un buen sentido a la palabra que se está utilizando."
   ]
  },
  {
   "cell_type": "markdown",
   "metadata": {
    "id": "cX0C2x5j8DNR",
    "colab_type": "text"
   },
   "source": [
    "**Pregunta 4**: Explique en que tareas y las arquitecturas con las que se entrenan ELMO y BERT (1,5 puntos)\n",
    "\n",
    "**Respuesta**: ELMO se entrena por medio de la tarea de Language Modelling (dado un texto predecir la siguiente palabra)\n",
    "y se utiliza RNN LSTM para ser entrenada.\n",
    "\n",
    "BERT se resuelve la tarea por medio de resolver Next Sentence Prediction (determinar dado dos oraciones si una oración puede ser la siguiente de la otra) y se utiliza la arquitectura de Transformers (más precisamente la parte del encoder) para ser entrenado"
   ]
  },
  {
   "cell_type": "markdown",
   "metadata": {
    "colab_type": "text",
    "id": "ocS_vQhR1gcU"
   },
   "source": [
    "## Preguntas Prácticas:"
   ]
  },
  {
   "cell_type": "markdown",
   "metadata": {
    "colab_type": "text",
    "id": "Ol82nJ0FnmcP"
   },
   "source": [
    "### BERT"
   ]
  },
  {
   "cell_type": "markdown",
   "metadata": {
    "id": "W28UEwvGYTbg",
    "colab_type": "text"
   },
   "source": [
    "Lo primero es instalar las librerías necesarias."
   ]
  },
  {
   "cell_type": "code",
   "metadata": {
    "id": "3X4Gbx7wYWDD",
    "colab_type": "code",
    "colab": {}
   },
   "source": [
    "!pip install transformers\n",
    "from transformers import BertTokenizer, BertForNextSentencePrediction, BertForMaskedLM, BertForQuestionAnswering\n",
    "\n",
    "import torch"
   ],
   "execution_count": null,
   "outputs": []
  },
  {
   "cell_type": "markdown",
   "metadata": {
    "id": "eIQo-VciYz2V",
    "colab_type": "text"
   },
   "source": [
    "Para las preguntas que siguen, utilizaremos distintas variantes de BERT disponibles en la librería transformers. [Aquí](https://huggingface.co/transformers/model_doc/bert.html) pueden encontrar toda la documentación necesaria. El modelo pre-entrenado a utilizar es \"bert-base-uncased\" (salvo para question answering)."
   ]
  },
  {
   "cell_type": "markdown",
   "metadata": {
    "id": "E4_WHbz8bXx2",
    "colab_type": "text"
   },
   "source": [
    "BERT es un modelo de lenguaje que fue entrenado exhaustivamente sobre dos tareas: 1) Next sentence prediction. 2) Masked language modeling. Veremos ejemplos de esto en la Auxiliar del jueves 16/07/20"
   ]
  },
  {
   "cell_type": "markdown",
   "metadata": {
    "id": "QyMb4YZRMYkm",
    "colab_type": "text"
   },
   "source": [
    "#### BertForNextSentencePrediction"
   ]
  },
  {
   "cell_type": "markdown",
   "metadata": {
    "id": "Yt6CbBtyadRb",
    "colab_type": "text"
   },
   "source": [
    "**Pregunta 1** (2 puntos en total): Utilizando el modelo BertForNextSentencePrediction de la librería transformers, muestre cual de las 2 oraciones es más probable que sea una continuación de la primera. (0.5 puntos cada una)\n",
    "\n",
    "Por ejemplo:\n",
    "\n",
    "Initial: \"The sky is blue.\"\\\n",
    "A: \"This is due to the shorter wavelength of blue light.\"\\\n",
    "B: \"Chile is one of the world's greatest economies.\"\n",
    "\n",
    "Debería retornar \"La oración que continúa más probable es A\", justificándolo con la evaluación de BERT."
   ]
  },
  {
   "cell_type": "code",
   "metadata": {
    "id": "IOX0bwser8OM",
    "colab_type": "code",
    "colab": {}
   },
   "source": [
    "tokenizer = BertTokenizer.from_pretrained('bert-base-uncased')\n",
    "model = BertForNextSentencePrediction.from_pretrained('bert-base-uncased')\n"
   ],
   "execution_count": null,
   "outputs": []
  },
  {
   "cell_type": "code",
   "metadata": {
    "id": "WoBKxPt-mz-e",
    "colab_type": "code",
    "colab": {}
   },
   "source": [
    "# Funciones auxiliares:\n",
    "def oracion_mas_probable(first,sentA,sentB):\n",
    "  # Su código aquí\n"
   ],
   "execution_count": null,
   "outputs": []
  },
  {
   "cell_type": "markdown",
   "metadata": {
    "id": "goXIGaief8Bi",
    "colab_type": "text"
   },
   "source": [
    "1.1)\n",
    "Initial: \"My cat is fluffy.\"\\\n",
    "A: \"My dog has a curling tail.\"\\\n",
    "B: \"A song can make or ruin a person’s day if they let it get to them.\""
   ]
  },
  {
   "cell_type": "code",
   "metadata": {
    "id": "zea5pybzf9x1",
    "colab_type": "code",
    "colab": {}
   },
   "source": [
    ""
   ],
   "execution_count": null,
   "outputs": []
  },
  {
   "cell_type": "markdown",
   "metadata": {
    "id": "mHd7UzXpgCY-",
    "colab_type": "text"
   },
   "source": [
    "1.2)\n",
    "Initial: \"The Big Apple is famous worldwide.\"\\\n",
    "A: \"You can add cinnamon for the perfect combination.\"\\\n",
    "B: \"It is America's largest city.\""
   ]
  },
  {
   "cell_type": "code",
   "metadata": {
    "id": "a7XbCBDmgCJ5",
    "colab_type": "code",
    "colab": {}
   },
   "source": [
    ""
   ],
   "execution_count": null,
   "outputs": []
  },
  {
   "cell_type": "markdown",
   "metadata": {
    "id": "c1Y7oxM7d0jM",
    "colab_type": "text"
   },
   "source": [
    "1.3)\n",
    "Initial: \"Roses are red.\"\\\n",
    "A: \"Violets are blue.\"\\\n",
    "B: \"Fertilize them regularly for impressive flowers.\""
   ]
  },
  {
   "cell_type": "code",
   "metadata": {
    "id": "e6t1QxlOf-O7",
    "colab_type": "code",
    "colab": {}
   },
   "source": [
    ""
   ],
   "execution_count": null,
   "outputs": []
  },
  {
   "cell_type": "markdown",
   "metadata": {
    "id": "lgC5BcoDiIWV",
    "colab_type": "text"
   },
   "source": [
    "1.4)\n",
    "Initial: \"I play videogames the whole day.\"\\\n",
    "A: \"They make me happy.\"\\\n",
    "B: \"They make me rage.\"\\\n",
    "<sub><sup><sub><sup>No estoy tan de acuerdo :D"
   ]
  },
  {
   "cell_type": "code",
   "metadata": {
    "id": "jJK7PhmwiItA",
    "colab_type": "code",
    "colab": {}
   },
   "source": [
    ""
   ],
   "execution_count": null,
   "outputs": []
  },
  {
   "cell_type": "markdown",
   "metadata": {
    "id": "o3ArRo_zMdtr",
    "colab_type": "text"
   },
   "source": [
    "####BertForMaskedLM"
   ]
  },
  {
   "cell_type": "markdown",
   "metadata": {
    "id": "FCN8XM7qihx1",
    "colab_type": "text"
   },
   "source": [
    "**Pregunta 2** (2 puntos en total): Ahora utilizaremos BertForMaskedLM para predecir una palabra oculta en una oración. (0.5 puntos cada una)\\\n",
    "Por ejemplo:\\\n",
    "BERT input: \"I want to _ a new car.\"\\\n",
    "BERT prediction: \"buy\""
   ]
  },
  {
   "cell_type": "code",
   "metadata": {
    "id": "QZwFxbJOv_aW",
    "colab_type": "code",
    "colab": {}
   },
   "source": [
    "tokenizer = BertTokenizer.from_pretrained('bert-base-uncased')\n",
    "model = BertForMaskedLM.from_pretrained('bert-base-uncased')"
   ],
   "execution_count": null,
   "outputs": []
  },
  {
   "cell_type": "code",
   "metadata": {
    "id": "QSGkdSokv-3G",
    "colab_type": "code",
    "colab": {}
   },
   "source": [
    "# Funcion auxiliar\n",
    "def palabra_mas_probable(sentence):\n",
    "  # Su código aquí"
   ],
   "execution_count": null,
   "outputs": []
  },
  {
   "cell_type": "markdown",
   "metadata": {
    "id": "gua8HPhfkYOb",
    "colab_type": "text"
   },
   "source": [
    "2.1)\n",
    "BERT input: \"[CLS] I love [MASK] . [SEP]\""
   ]
  },
  {
   "cell_type": "code",
   "metadata": {
    "id": "xKRFJnURk7ut",
    "colab_type": "code",
    "colab": {}
   },
   "source": [
    ""
   ],
   "execution_count": null,
   "outputs": []
  },
  {
   "cell_type": "markdown",
   "metadata": {
    "id": "7npsRd9Nk8hi",
    "colab_type": "text"
   },
   "source": [
    "2.2)\n",
    "BERT input: \"[CLS] I hear that Karen is very [MASK] . [SEP]\""
   ]
  },
  {
   "cell_type": "code",
   "metadata": {
    "id": "EW7CosmKk87e",
    "colab_type": "code",
    "colab": {}
   },
   "source": [
    ""
   ],
   "execution_count": null,
   "outputs": []
  },
  {
   "cell_type": "markdown",
   "metadata": {
    "id": "3SqzWh8Wk9TD",
    "colab_type": "text"
   },
   "source": [
    "2.3)\n",
    "BERT input: \"[CLS] She had the gift of being able to [MASK] . [SEP]\""
   ]
  },
  {
   "cell_type": "code",
   "metadata": {
    "id": "K6YFd1Xpk9qd",
    "colab_type": "code",
    "colab": {}
   },
   "source": [
    ""
   ],
   "execution_count": null,
   "outputs": []
  },
  {
   "cell_type": "markdown",
   "metadata": {
    "id": "XoV_5suNk-1X",
    "colab_type": "text"
   },
   "source": [
    "2.4)\n",
    "BERT input: \"[CLS] It's not often you find a [MASK] on the street. [SEP]\""
   ]
  },
  {
   "cell_type": "code",
   "metadata": {
    "id": "C8ayI5VIk_Hr",
    "colab_type": "code",
    "colab": {}
   },
   "source": [
    ""
   ],
   "execution_count": null,
   "outputs": []
  },
  {
   "cell_type": "markdown",
   "metadata": {
    "id": "FJFPpgoYMim5",
    "colab_type": "text"
   },
   "source": [
    "####BertForQuestionAnswering"
   ]
  },
  {
   "cell_type": "markdown",
   "metadata": {
    "id": "GmCSmftALYbA",
    "colab_type": "text"
   },
   "source": [
    "**Pregunta 3**: (2 puntos) Utilizando el modelo BertForQuestionAnswering pre-entrenado con 'bert-large-uncased-whole-word-masking-finetuned-squad', extraiga la respuesta a cada una de las siguientes 4 preguntas y su contexto. (0.5 puntos cada una). Recuerde cambiar el tokenizer para que coincida con el modelo."
   ]
  },
  {
   "cell_type": "code",
   "metadata": {
    "id": "8UhKkKpyToFf",
    "colab_type": "code",
    "colab": {}
   },
   "source": [
    "tokenizer = BertTokenizer.from_pretrained('bert-large-uncased-whole-word-masking-finetuned-squad')\n",
    "model = BertForQuestionAnswering.from_pretrained('bert-large-uncased-whole-word-masking-finetuned-squad')"
   ],
   "execution_count": null,
   "outputs": []
  },
  {
   "cell_type": "code",
   "metadata": {
    "id": "yV8dZINJTrPI",
    "colab_type": "code",
    "colab": {}
   },
   "source": [
    "# Funcion Auxiliar\n",
    "def entregar_respuesta(qst, cntxt):\n",
    "  #Su código aquí"
   ],
   "execution_count": null,
   "outputs": []
  },
  {
   "cell_type": "markdown",
   "metadata": {
    "id": "H7zizotdKVIF",
    "colab_type": "text"
   },
   "source": [
    "3.1)\n",
    "\n",
    "Pregunta: \"When was the Battle of Iquique?\"\n",
    "\n",
    "Contexto: \"The Battle of Iquique was a naval engagement that occurred between a Chilean corvette under the command of Arturo Prat and a Peruvian ironclad under the command of Miguel Grau Seminario on 21 May 1879, during the naval stage of the War of the Pacific, and resulted in a Peruvian victory.\""
   ]
  },
  {
   "cell_type": "code",
   "metadata": {
    "id": "q_TrDijrKnQH",
    "colab_type": "code",
    "colab": {}
   },
   "source": [
    ""
   ],
   "execution_count": null,
   "outputs": []
  },
  {
   "cell_type": "markdown",
   "metadata": {
    "id": "0au9XCqNB2TY",
    "colab_type": "text"
   },
   "source": [
    "3.2)\n",
    "\n",
    "Pregunta: \"Who won the Battle of Iquique?\"\n",
    "\n",
    "Contexto: \"The Battle of Iquique was a naval engagement that occurred between a Chilean corvette under the command of Arturo Prat and a Peruvian ironclad under the command of Miguel Grau Seminario on 21 May 1879, during the naval stage of the War of the Pacific, and resulted in a Peruvian victory.\""
   ]
  },
  {
   "cell_type": "code",
   "metadata": {
    "id": "3DlTUMxAB_0n",
    "colab_type": "code",
    "colab": {}
   },
   "source": [
    ""
   ],
   "execution_count": null,
   "outputs": []
  },
  {
   "cell_type": "markdown",
   "metadata": {
    "id": "ryRajxniCKbp",
    "colab_type": "text"
   },
   "source": [
    "3.3)\n",
    "\n",
    "Pregunta: \"Who introduced peephole connections to LSTM networks?\"\n",
    "\n",
    "Contexto: \"What I’ve described so far is a pretty normal LSTM. But not all LSTMs are the same as the above. In fact, it seems like almost every paper involving LSTMs uses a slightly different version. The differences are minor, but it’s worth mentioning some of them. One popular LSTM variant, introduced by Gers & Schmidhuber (2000), is adding “peephole connections.” This means that we let the gate layers look at the cell state.\""
   ]
  },
  {
   "cell_type": "code",
   "metadata": {
    "id": "S1rT9kgLCKuy",
    "colab_type": "code",
    "colab": {}
   },
   "source": [
    ""
   ],
   "execution_count": null,
   "outputs": []
  },
  {
   "cell_type": "markdown",
   "metadata": {
    "id": "pqn0vNvKCLAq",
    "colab_type": "text"
   },
   "source": [
    "3.4)\n",
    "\n",
    "Pregunta: \"When is the cat most active?\"\n",
    "\n",
    "Contexto: \"The cat is similar in anatomy to the other felid species: it has a strong flexible body, quick reflexes, sharp teeth and retractable claws adapted to killing small prey. Its night vision and sense of smell are well developed. Cat communication includes vocalizations like meowing, purring, trilling, hissing, growling and grunting as well as cat-specific body language. It is a solitary hunter but a social species. It can hear sounds too faint or too high in frequency for human ears, such as those made by mice and other small mammals. It is a predator that is most active at dawn and dusk. It secretes and perceives pheromones.\""
   ]
  },
  {
   "cell_type": "code",
   "metadata": {
    "id": "o5n37FwOCLTG",
    "colab_type": "code",
    "colab": {}
   },
   "source": [
    ""
   ],
   "execution_count": null,
   "outputs": []
  }
 ]
}