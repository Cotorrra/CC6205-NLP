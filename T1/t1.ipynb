{
 "nbformat": 4,
 "nbformat_minor": 0,
 "metadata": {
  "kernelspec": {
   "name": "pycharm-959495b3",
   "language": "python",
   "display_name": "PyCharm (CC6205-NLP)"
  },
  "language_info": {
   "codemirror_mode": {
    "name": "ipython",
    "version": 3
   },
   "file_extension": ".py",
   "mimetype": "text/x-python",
   "name": "python",
   "nbconvert_exporter": "python",
   "pygments_lexer": "ipython3",
   "version": "3.7.4"
  },
  "toc": {
   "base_numbering": 1,
   "nav_menu": {},
   "number_sections": true,
   "sideBar": true,
   "skip_h1_title": true,
   "title_cell": "Table of Contents",
   "title_sidebar": "Contents",
   "toc_cell": true,
   "toc_position": {},
   "toc_section_display": true,
   "toc_window_display": false
  },
  "varInspector": {
   "cols": {
    "lenName": 16,
    "lenType": 16,
    "lenVar": 40
   },
   "kernels_config": {
    "python": {
     "delete_cmd_postfix": "",
     "delete_cmd_prefix": "del ",
     "library": "var_list.py",
     "varRefreshCmd": "print(var_dic_list())"
    },
    "r": {
     "delete_cmd_postfix": ") ",
     "delete_cmd_prefix": "rm(",
     "library": "var_list.r",
     "varRefreshCmd": "cat(var_dic_list()) "
    }
   },
   "types_to_exclude": [
    "module",
    "function",
    "builtin_function_or_method",
    "instance",
    "_Feature"
   ],
   "window_display": false
  },
  "colab": {
   "name": "t1.ipynb",
   "provenance": [],
   "collapsed_sections": [],
   "toc_visible": true
  }
 },
 "cells": [
  {
   "cell_type": "markdown",
   "metadata": {
    "ExecuteTime": {
     "end_time": "2020-03-31T13:49:08.174519Z",
     "start_time": "2020-03-31T13:49:08.165989Z"
    },
    "id": "G2G9R-pQvKbr",
    "colab_type": "text"
   },
   "source": [
    "# Tarea 1 NLP : Competencia de Clasificación de Texto\n",
    "-------------------------------\n"
   ]
  },
  {
   "cell_type": "markdown",
   "metadata": {
    "id": "MCrkqG4JvKbz",
    "colab_type": "text"
   },
   "source": [
    "- **Nombres:** Valentina Sepulveda, Joaquín Pérez\n",
    "\n",
    "- **Usuario o nombre de equipo en Codalab:** \n",
    "\n",
    "\n"
   ]
  },
  {
   "cell_type": "markdown",
   "metadata": {
    "ExecuteTime": {
     "end_time": "2020-04-07T14:34:38.796217Z",
     "start_time": "2020-04-07T14:34:38.782255Z"
    },
    "id": "7h1JBoHEvKcI",
    "colab_type": "text"
   },
   "source": [
    "### Detalles e instrucciones de la competencia:\n",
    "\n",
    "- La competencia consiste en resolver 4 problemas de clasificación distintos, cada uno de tres clases. Por cada problema deberán crear un clasificador distinto. La evaluación de la competencia se realiza en base a 4 métricas: AUC, Kappa y Accuracy. Los mejores puntajes en cada ítem serán los que ganen.\n",
    "\n",
    "- Para comenzar se les entregará en este notebook el baseline y la estructura del reporte. El baseline es el código que realiza creación de features y clasificación básica. Los puntajes de este serán ocupados como base para la competencia: deben superar sus resultados para ser bien evaluados.  \n",
    "\n",
    "- Para participar, deben registrarse en Codalab y luego ingresar a la competencia usando el siguiente [link]( https://competitions.codalab.org/competitions/24121?secret_key=f5eb2d95-b36e-4aad-8fc5-4d9d77f4e4dc). \n",
    "\n",
    "- **Es requisito entregar el reporte con el código y haber participado en la competencia para ser evaluado.**\n",
    "\n",
    "- Pueden hacer grupos de máximo 2 alumnos. Cada grupo debe tener un nombre de equipo (En codalab, ir a settings y después cambiar Team Name). Solo una persona debe administrar la cuenta del grupo.\n",
    "\n",
    "- En total pueden hacer un **máximo de 4 envíos/submissions** (tanto para equipos como para envíos indivuales).\n",
    "\n",
    "- Hagan varios experimentos haciendo cross-validation o evaluación sobre una sub-partición antes de enviar sus predicciones a Codalab. Asegúrense que la distribución de las clases sea balanceada en las particiones de training y testing. Verificar que el formato de la submission coincida con el de la competencia. De lo contrario, se les será evaluado incorrectamente.\n",
    "\n",
    "- Estar top 5 en alguna métrica equivale a 1 punto extra en la nota final.\n",
    "\n",
    "- No se limiten a los contenidos vistos ni a scikit ni a este baseline. ¡Usen todo su conocimiento e ingenio en mejorar sus sistemas! \n",
    "\n",
    "- Todas las dudas escríbanlas en el hilo de U-cursos de la tarea. Los emails que lleguen al equipo docente serán remitidos a ese medio.\n"
   ]
  },
  {
   "cell_type": "markdown",
   "metadata": {
    "id": "N8W8H7JKvKcO",
    "colab_type": "text"
   },
   "source": [
    "### Reporte\n",
    "\n",
    "Este debe cumplir la siguiente estructura:\n",
    "\n",
    "1.\t**Introducción**: Presentar brevemente el problema a resolver, los métodos y representaciones utilizadas en el desarrollo de la tarea y conclusiones obtenidas. (0.5 Puntos)\n",
    "2.\t**Representaciones**: Describir los atributos y representaciones usadas como entrada de los clasificadores. Si bien, con Bag of Words (baseline) ya se comienzan a percibir buenos resultados, pueden mejorar su evaluación agregando más atributos y representaciones diseñadas a mano. Mas abajo encontrarán una lista útil de estos que les podrá ser de utilidad. (1.5 puntos)\n",
    "3.\t**Algoritmos**: Describir brevemente los algoritmos de clasificación usados. (0.5 puntos)\n",
    "4.\t**Métricas de evaluación**: Describir brevemente las métricas utilizadas en la evaluación indicando que miden y su interpretación. (0.5 puntos)\n",
    "5.\t**Experimentos**: Reportar todos sus experimentos. Comparar los resultados obtenidos utilizando diferentes algoritmos y representaciones. Estos experimentos los hacen sobre la sub-partición de evaluación que deben crear (o pueden usar cross-validation). Incluyan todo el código de sus experimentos aquí. ¡Es vital haber realizado varios experimentos para sacar una buena nota! (2 puntos)\n",
    "6.\t**Conclusiones**: Discutir resultados, proponer trabajo futuro. (1 punto)"
   ]
  },
  {
   "cell_type": "markdown",
   "metadata": {
    "ExecuteTime": {
     "end_time": "2019-08-21T19:18:43.301002Z",
     "start_time": "2019-08-21T19:18:43.298037Z"
    },
    "id": "UQ53VkYdvKcU",
    "colab_type": "text"
   },
   "source": [
    "### Baseline\n",
    "\n",
    "Por último, el baseline contiene un código básico que:\n",
    "\n",
    "- Obtiene los dataset.\n",
    "- Divide los datasets en train (entrenamiento y prueba) y target set (el que clasificar para subir a la competencia).\n",
    "- Crea un Pipeline que: \n",
    "    - Crea features personalizadas.\n",
    "    - Transforma los dataset a bag of words (BoW).  \n",
    "    - Entrena un clasificador usando cada train set.\n",
    "- Clasifica y evalua el sistema creado usando el test set.\n",
    "- Clasifica el target set.\n",
    "- Genera una submission con el target en formato zip en el directorio en donde se está ejecutando el notebook. \n",
    "\n",
    "\n",
    "Algunas pistas sobre como mejorar el rendimiento de los sistemas que creen. (Esto tendrá mas sentido cuando vean el código)\n",
    "\n",
    "- **Vectorizador**: investigar los modulos de `nltk`, en particular, `TweetTokenizer`, `mark_negation` para reemplazar los tokenizadores. También, el parámetro `ngram_range` (Ojo que el clf naive bayes no debería usarse con n-gramas, ya que rompe el supuesto de independencia). Además, implementar los atributos que crean útiles desde el listado del el enunciado. Investigar también el vectorizador tf-idf.\n",
    "\n",
    "- **Clasificador**: investigar otros clasificadores mas efectivos que naive bayes. Estos deben poder retornar la probabilidad de pertenecia de las clases (ie: implementar la función `predict_proba`).\n",
    "\n",
    "- **Features**: Recuerden que pueden implementar todas las features que se les ocurra! Aquí les adjuntamos algunos ejemplos:\n",
    "    -\tWord n-grams.\n",
    "    -\tCharacter n-grams. \n",
    "    -\tPart-of-speech tags.\n",
    "    -\tSentiment Lexicons (Lexicon = A set of words with a label or associated value.).\n",
    "        - Count the number of positive and negative words within a sentence.\n",
    "        - If the lexicon has associated intensity of feeling (for example in a decimal), then take the average of the intensity of the sentence according to the feeling, the sum, etc.\n",
    "        -\tA good lexicon of sentiment: [Bing Liu](http://www.cs.uic.edu/~liub/FBS/opinion-lexicon-English.rar) \n",
    "        - A reference with a lot of [sentiment lexicons](https://medium.com/@datamonsters/sentiment-analysis-tools-overview-part-1-positive-and-negative-words-databases-ae35431a470c). \n",
    "    -\tThe number of elongated words (words with one character repeated more than two times).\n",
    "    -\tThe number of words with all characters in uppercase.\n",
    "    -\tThe presence and the number of positive or negative emoticons.\n",
    "    -\tThe number of individual negations.\n",
    "    -\tThe number of contiguous sequences of dots, question marks and exclamation marks.\n",
    "    -\tWord Embeddings: Here are some good ideas on how to use them.\n",
    "    https://stats.stackexchange.com/questions/221715/apply-word-embeddings-to-entire-document-to-get-a-feature-vector\n",
    "\n",
    "- **Reducción de dimensionalidad**: También puede serles de ayuda. Referencias [aquí](https://scikit-learn.org/stable/modules/unsupervised_reduction.html).\n",
    "\n",
    "- Por último, pueden encontrar mas referencias de cómo mejorar sus features, el vectorizador y el clasificador [aquí](https://affectivetweets.cms.waikato.ac.nz/benchmark/)."
   ]
  },
  {
   "cell_type": "markdown",
   "metadata": {
    "id": "-GGbVakLvKcn",
    "colab_type": "text"
   },
   "source": [
    "----------------------------------------"
   ]
  },
  {
   "cell_type": "markdown",
   "metadata": {
    "id": "SIDyXa6f-HgY",
    "colab_type": "text"
   },
   "source": [
    "# 0. TODO\n",
    "- MOAR Features\n",
    "\n",
    "- Experimentar."
   ]
  },
  {
   "cell_type": "markdown",
   "metadata": {
    "ExecuteTime": {
     "end_time": "2020-03-31T13:34:25.683540Z",
     "start_time": "2020-03-31T13:34:25.673430Z"
    },
    "id": "TGUTH412vKct",
    "colab_type": "text"
   },
   "source": [
    "## 1. Introducción"
   ]
  },
  {
   "cell_type": "markdown",
   "metadata": {
    "ExecuteTime": {
     "end_time": "2020-03-31T13:47:13.474238Z",
     "start_time": "2020-03-31T13:47:13.454068Z"
    },
    "id": "BJobCgn5vKc1",
    "colab_type": "text"
   },
   "source": [
    "## 2. Representaciones\n",
    "\n",
    "Para las representaciones se escogio..."
   ]
  },
  {
   "cell_type": "markdown",
   "metadata": {
    "id": "9RDLeGcSvKc-",
    "colab_type": "text"
   },
   "source": [
    "## 3. Algoritmos\n",
    "\n",
    "De los algoritmos de clasificación se decidió..."
   ]
  },
  {
   "cell_type": "markdown",
   "metadata": {
    "id": "RQSGEDwqvKdM",
    "colab_type": "text"
   },
   "source": [
    "## 4. Métricas de Evaluación\n",
    "\n",
    "- AUC: ...\n",
    "- Kappa: El coeficiente kappa de Cohen es una métrica que establece qué tan certero es el clasificador con los resultados esperados teniendo en cuenta la posibilidad de que las predicciones acertadas pudieron haber sido por mero azar.\n",
    "\n",
    "- Accuracy: El Accuracy mide la proporción de aciertos del clasificador de forma simple, contando la cantidad de clases bien predichas versus la cantidad de predicciones realizadas.\n"
   ]
  },
  {
   "cell_type": "markdown",
   "metadata": {
    "id": "8x_qQLaHvKdQ",
    "colab_type": "text"
   },
   "source": [
    "## 5. Experimentos"
   ]
  },
  {
   "cell_type": "markdown",
   "metadata": {
    "ExecuteTime": {
     "end_time": "2020-03-31T13:31:40.023344Z",
     "start_time": "2020-03-31T13:31:40.003541Z"
    },
    "id": "_JSwCF_bvKdY",
    "colab_type": "text"
   },
   "source": [
    "### Importar librerías y utiles"
   ]
  },
  {
   "cell_type": "code",
   "metadata": {
    "id": "EXzxb-SpATDg",
    "colab_type": "code",
    "pycharm": {
     "name": "#%%\n"
    },
    "colab": {}
   },
   "source": [
    "# Set-up\n",
    "try:\n",
    "    import emojis\n",
    "except:\n",
    "    !pip install emojis\n",
    "    import emojis\n",
    "\n",
    "try:\n",
    "    import gensim.downloader as api\n",
    "except:\n",
    "    !pip install gensim\n",
    "    import gensim.downloader as api\n",
    "\n",
    "try:\n",
    "    from better_profanity import profanity\n",
    "except:\n",
    "    !pip install better_profanity\n",
    "    from better_profanity import profanity\n",
    "\n",
    "try:\n",
    "    from senticnet.senticnet import SenticNet\n",
    "except:\n",
    "    !pip install senticnet\n",
    "    from senticnet.senticnet import SenticNet\n",
    "\n",
    "import nltk"
   ],
   "execution_count": 326,
   "outputs": []
  },
  {
   "cell_type": "code",
   "metadata": {
    "ExecuteTime": {
     "end_time": "2020-04-07T15:44:20.587160Z",
     "start_time": "2020-04-07T15:44:19.319386Z"
    },
    "id": "2HRJf2t7vKdc",
    "colab_type": "code",
    "pycharm": {
     "name": "#%%\n"
    },
    "outputId": "cec8e85e-705e-4694-c1a9-7084080a0700",
    "colab": {
     "base_uri": "https://localhost:8080/",
     "height": 148
    }
   },
   "source": [
    "import pandas as pd\n",
    "import os\n",
    "import numpy as np\n",
    "import shutil\n",
    "\n",
    "import emojis\n",
    "import gensim.downloader as api # https://github.com/RaRe-Technologies/gensim-data\n",
    "# get the model\n",
    "model = api.load(\"glove-twitter-50\")\n",
    "nltk.download('opinion_lexicon')\n",
    "\n",
    "from nltk.tokenize import TweetTokenizer\n",
    "from nltk.sentiment.util import mark_negation\n",
    "\n",
    "from sklearn.feature_extraction.text import CountVectorizer\n",
    "from sklearn.naive_bayes import MultinomialNB\n",
    "from sklearn.pipeline import Pipeline, FeatureUnion\n",
    "from sklearn.metrics import confusion_matrix, cohen_kappa_score, classification_report, accuracy_score, roc_auc_score\n",
    "from sklearn.model_selection import train_test_split\n",
    "from sklearn.base import BaseEstimator, TransformerMixin\n",
    "\n",
    "from sklearn.multiclass import OneVsRestClassifier\n",
    "\n"
   ],
   "execution_count": 327,
   "outputs": [
    {
     "name": "stderr",
     "output_type": "stream",
     "text": [
      "[nltk_data] Downloading package opinion_lexicon to\n",
      "[nltk_data]     C:\\Users\\Amitsuu\\AppData\\Roaming\\nltk_data...\n",
      "[nltk_data]   Package opinion_lexicon is already up-to-date!\n"
     ]
    }
   ]
  },
  {
   "cell_type": "markdown",
   "metadata": {
    "id": "KJiP8jlOvKd1",
    "colab_type": "text"
   },
   "source": [
    "### Definir métodos de evaluación\n",
    "\n",
    "Estas funciones están a cargo de evaluar los resultados de la tarea. No deberían cambiarlas.\n"
   ]
  },
  {
   "cell_type": "code",
   "metadata": {
    "ExecuteTime": {
     "end_time": "2020-04-07T15:44:20.604066Z",
     "start_time": "2020-04-07T15:44:20.589106Z"
    },
    "id": "SMWRq5nPvKeA",
    "colab_type": "code",
    "pycharm": {
     "name": "#%%\n"
    },
    "colab": {}
   },
   "source": [
    "def auc_score(test_set, predicted_set):\n",
    "    high_predicted = np.array([prediction[2] for prediction in predicted_set])\n",
    "    medium_predicted = np.array(\n",
    "        [prediction[1] for prediction in predicted_set])\n",
    "    low_predicted = np.array([prediction[0] for prediction in predicted_set])\n",
    "    high_test = np.where(test_set == 'high', 1.0, 0.0)\n",
    "    medium_test = np.where(test_set == 'medium', 1.0, 0.0)\n",
    "    low_test = np.where(test_set == 'low', 1.0, 0.0)\n",
    "    auc_high = roc_auc_score(high_test, high_predicted)\n",
    "    auc_med = roc_auc_score(medium_test, medium_predicted)\n",
    "    auc_low = roc_auc_score(low_test, low_predicted)\n",
    "    auc_w = (low_test.sum() * auc_low + medium_test.sum() * auc_med +\n",
    "             high_test.sum() * auc_high) / (\n",
    "                 low_test.sum() + medium_test.sum() + high_test.sum())\n",
    "    return auc_w\n",
    "\n",
    "\n",
    "def evaulate(predicted_probabilities, y_test, labels, dataset_name, full_log=False):\n",
    "    # Importante: al transformar los arreglos de probabilidad a clases,\n",
    "    # entregar el arreglo de clases aprendido por el clasificador.\n",
    "    # (que comunmente, es distinto a ['low', 'medium', 'high'])\n",
    "    predicted_labels = [\n",
    "        labels[np.argmax(item)] for item in predicted_probabilities\n",
    "    ]\n",
    "    if full_log:\n",
    "        print('Confusion Matrix for {}:\\n'.format(dataset_name))\n",
    "        print(\n",
    "            confusion_matrix(y_test,\n",
    "                             predicted_labels,\n",
    "                             labels=['low', 'medium', 'high']))\n",
    "\n",
    "        print('\\nClassification Report:\\n')\n",
    "        print(\n",
    "            classification_report(y_test,\n",
    "                                  predicted_labels,\n",
    "                                  labels=['low', 'medium', 'high']))\n",
    "    # Reorder predicted probabilities array.\n",
    "    labels = labels.tolist()\n",
    "    predicted_probabilities = predicted_probabilities[:, [\n",
    "        labels.index('low'),\n",
    "        labels.index('medium'),\n",
    "        labels.index('high')\n",
    "    ]]\n",
    "    print(dataset_name, end='\\t')\n",
    "    auc = round(auc_score(y_test, predicted_probabilities), 3)\n",
    "    print(\"Scores:\\n\\nAUC: \", auc, end='\\t')\n",
    "    kappa = round(cohen_kappa_score(y_test, predicted_labels), 3)\n",
    "    print(\"Kappa:\", kappa, end='\\t')\n",
    "    accuracy = round(accuracy_score(y_test, predicted_labels), 3)\n",
    "    print(\"Accuracy:\", accuracy)\n",
    "    print('------------------------------------------------------\\n')\n",
    "    return np.array([auc, kappa, accuracy])"
   ],
   "execution_count": 328,
   "outputs": []
  },
  {
   "cell_type": "markdown",
   "metadata": {
    "id": "RK3Srgqu_yTI",
    "colab_type": "text"
   },
   "source": [
    "### Datos ####"
   ]
  },
  {
   "cell_type": "code",
   "metadata": {
    "id": "FauIAEaMqBRS",
    "colab_type": "code",
    "pycharm": {
     "name": "#%%\n"
    },
    "colab": {}
   },
   "source": [
    "\n",
    "# Datasets de entrenamiento.\n",
    "train = {\n",
    "    'anger': pd.read_csv('https://raw.githubusercontent.com/dccuchile/CC6205/master/assignments/assignment_1/data/train/anger-train.txt', sep='\\t', names=['id', 'tweet', 'class', 'sentiment_intensity']),\n",
    "    'fear': pd.read_csv('https://raw.githubusercontent.com/dccuchile/CC6205/master/assignments/assignment_1/data/train/fear-train.txt', sep='\\t', names=['id', 'tweet', 'class', 'sentiment_intensity']),\n",
    "    'joy': pd.read_csv('https://raw.githubusercontent.com/dccuchile/CC6205/master/assignments/assignment_1/data/train/joy-train.txt', sep='\\t', names=['id', 'tweet', 'class', 'sentiment_intensity']),\n",
    "    'sadness': pd.read_csv('https://raw.githubusercontent.com/dccuchile/CC6205/master/assignments/assignment_1/data/train/sadness-train.txt', sep='\\t', names=['id', 'tweet', 'class', 'sentiment_intensity'])\n",
    "}\n",
    "# Datasets que deberán predecir para la competencia.\n",
    "target = {\n",
    "    'anger': pd.read_csv('https://raw.githubusercontent.com/dccuchile/CC6205/master/assignments/assignment_1/data/target/anger-target.txt', sep='\\t', names=['id', 'tweet', 'class', 'sentiment_intensity'], na_values=['NONE']),\n",
    "    'fear': pd.read_csv('https://raw.githubusercontent.com/dccuchile/CC6205/master/assignments/assignment_1/data/target/fear-target.txt', sep='\\t', names=['id', 'tweet', 'class', 'sentiment_intensity'], na_values=['NONE']),\n",
    "    'joy': pd.read_csv('https://raw.githubusercontent.com/dccuchile/CC6205/master/assignments/assignment_1/data/target/joy-target.txt', sep='\\t', names=['id', 'tweet', 'class', 'sentiment_intensity'], na_values=['NONE']),\n",
    "    'sadness': pd.read_csv('https://raw.githubusercontent.com/dccuchile/CC6205/master/assignments/assignment_1/data/target/sadness-target.txt', sep='\\t', names=['id', 'tweet', 'class', 'sentiment_intensity'], na_values=['NONE'])\n",
    "}"
   ],
   "execution_count": 329,
   "outputs": []
  },
  {
   "cell_type": "markdown",
   "metadata": {
    "id": "9DoBu0XyvKfG",
    "colab_type": "text"
   },
   "source": [
    "### Analizar los datos \n",
    "\n",
    "Imprimir la cantidad de tweets de cada dataset, según su intensidad de sentimiento. Noten que las clases están desbalanceadas. "
   ]
  },
  {
   "cell_type": "code",
   "metadata": {
    "ExecuteTime": {
     "end_time": "2020-04-07T15:44:21.117633Z",
     "start_time": "2020-04-07T15:44:21.090703Z"
    },
    "id": "iLit4HlFvKfK",
    "colab_type": "code",
    "outputId": "8dbaebcf-6349-44cf-e2df-792904588799",
    "colab": {
     "base_uri": "https://localhost:8080/",
     "height": 608
    }
   },
   "source": [
    "def get_group_dist(group_name, train):\n",
    "    print(group_name, \"\\n\",\n",
    "          train[group_name].groupby('sentiment_intensity').count(),\n",
    "          '\\n---------------------------------------\\n')\n",
    "for dataset_name in train:\n",
    "    get_group_dist(dataset_name, train)"
   ],
   "execution_count": 330,
   "outputs": [
    {
     "name": "stdout",
     "output_type": "stream",
     "text": [
      "anger \n",
      "                       id  tweet  class\n",
      "sentiment_intensity                   \n",
      "high                 163    163    163\n",
      "low                  161    161    161\n",
      "medium               617    617    617 \n",
      "---------------------------------------\n",
      "\n",
      "fear \n",
      "                       id  tweet  class\n",
      "sentiment_intensity                   \n",
      "high                 270    270    270\n",
      "low                  288    288    288\n",
      "medium               699    699    699 \n",
      "---------------------------------------\n",
      "\n",
      "joy \n",
      "                       id  tweet  class\n",
      "sentiment_intensity                   \n",
      "high                 195    195    195\n",
      "low                  219    219    219\n",
      "medium               488    488    488 \n",
      "---------------------------------------\n",
      "\n",
      "sadness \n",
      "                       id  tweet  class\n",
      "sentiment_intensity                   \n",
      "high                 197    197    197\n",
      "low                  210    210    210\n",
      "medium               453    453    453 \n",
      "---------------------------------------\n",
      "\n"
     ]
    }
   ]
  },
  {
   "cell_type": "markdown",
   "metadata": {
    "id": "nyqmE30oCAxc",
    "colab_type": "text"
   },
   "source": [
    "### Balance de Clases"
   ]
  },
  {
   "cell_type": "code",
   "metadata": {
    "id": "q0aQopQlMCI9",
    "colab_type": "code",
    "colab": {}
   },
   "source": [
    "from sklearn.utils import resample"
   ],
   "execution_count": 331,
   "outputs": []
  },
  {
   "cell_type": "markdown",
   "metadata": {
    "id": "LVE8N1M-LxNa",
    "colab_type": "text"
   },
   "source": [
    "#### Balanceo de Clases ####"
   ]
  },
  {
   "cell_type": "code",
   "metadata": {
    "id": "V5W2njtMLuXf",
    "colab_type": "code",
    "pycharm": {
     "name": "#%%\n"
    },
    "outputId": "c82512a5-3b36-492f-fe8f-a61570b251ad",
    "colab": {
     "base_uri": "https://localhost:8080/",
     "height": 91
    }
   },
   "source": [
    "enojo=train.get('anger')\n",
    "df_enojo_high=enojo['sentiment_intensity']=='high'\n",
    "df_enojo_high=enojo[df_enojo_high]\n",
    "df_enojo_medium=enojo['sentiment_intensity']=='medium'\n",
    "df_enojo_medium=enojo[df_enojo_medium]\n",
    "df_enojo_low=enojo['sentiment_intensity']=='low'\n",
    "df_enojo_low=enojo[df_enojo_low]\n",
    "\n",
    "df_majority_downsampled = resample(df_enojo_medium, \n",
    "                                 replace=False,    # sample without replacement\n",
    "                                 n_samples=163,     # to match minority class\n",
    "                                 random_state=123) # reproducible results\n",
    " \n",
    "# Se combinan las clases minoritarias con la mayoritaria\n",
    "df_downsampled_enojo = pd.concat([df_majority_downsampled, df_enojo_low,df_enojo_high])\n",
    " \n",
    "# Display new class counts\n",
    "df_downsampled_enojo.sentiment_intensity.value_counts()\n",
    "\n",
    "miedo=train.get('fear')\n",
    "df_miedo_high=miedo['sentiment_intensity']=='high'\n",
    "df_miedo_high=miedo[df_miedo_high]\n",
    "df_miedo_medium=miedo['sentiment_intensity']=='medium'\n",
    "df_miedo_medium=miedo[df_miedo_medium]\n",
    "df_miedo_low=miedo['sentiment_intensity']=='low'\n",
    "df_miedo_low=miedo[df_miedo_low]\n",
    "\n",
    "\n",
    "# Downsample de medium\n",
    "df_majority_downsampled = resample(df_miedo_medium, \n",
    "                                 replace=False,    # sample without replacement\n",
    "                                 n_samples=270,     # to match minority class\n",
    "                                 random_state=123) # reproducible results\n",
    " \n",
    "# Se combinan las clases minoritarias con la mayoritaria\n",
    "df_downsampled_miedo = pd.concat([df_majority_downsampled, df_miedo_low,df_miedo_high])\n",
    " \n",
    "# Display new class counts\n",
    "df_downsampled_miedo.sentiment_intensity.value_counts()\n",
    "\n",
    "\n",
    "\n",
    "alegria=train.get('joy')\n",
    "df_alegria_high=alegria['sentiment_intensity']=='high'\n",
    "df_alegria_high=alegria[df_alegria_high]\n",
    "df_alegria_medium=alegria['sentiment_intensity']=='medium'\n",
    "df_alegria_medium=alegria[df_alegria_medium]\n",
    "df_alegria_low=alegria['sentiment_intensity']=='low'\n",
    "df_alegria_low=alegria[df_alegria_low]\n",
    "\n",
    "\n",
    "\n",
    "# Downsample de medium\n",
    "df_majority_downsampled = resample(df_alegria_medium, \n",
    "                                 replace=False,    # sample without replacement\n",
    "                                 n_samples=200,     # to match minority class\n",
    "                                 random_state=123) # reproducible results\n",
    " \n",
    "# Se combinan las clases minoritarias con la mayoritaria\n",
    "df_downsampled_alegria = pd.concat([df_majority_downsampled, df_alegria_low,df_alegria_high])\n",
    " \n",
    "# Display new class counts\n",
    "df_downsampled_alegria.sentiment_intensity.value_counts()\n",
    "\n",
    "\n",
    "\n",
    "tristeza=train.get('sadness')\n",
    "df_tristeza_high=tristeza['sentiment_intensity']=='high'\n",
    "df_tristeza_high=tristeza[df_tristeza_high]\n",
    "df_tristeza_medium=tristeza['sentiment_intensity']=='medium'\n",
    "df_tristeza_medium=tristeza[df_tristeza_medium]\n",
    "df_tristeza_low=tristeza['sentiment_intensity']=='low'\n",
    "df_tristeza_low=tristeza[df_tristeza_low]\n",
    "\n",
    "# Downsample de medium\n",
    "df_majority_downsampled = resample(df_tristeza_medium, \n",
    "                                 replace=False,    # sample without replacement\n",
    "                                 n_samples=200,     # to match minority class\n",
    "                                 random_state=123) # reproducible results\n",
    " \n",
    "# Se combinan las clases minoritarias con la mayoritaria\n",
    "df_downsampled_tristeza = pd.concat([df_majority_downsampled, df_tristeza_low,df_tristeza_high])\n",
    " \n",
    "# Display new class counts\n",
    "df_downsampled_tristeza.sentiment_intensity.value_counts()"
   ],
   "execution_count": 332,
   "outputs": [
    {
     "data": {
      "text/plain": "low       210\nmedium    200\nhigh      197\nName: sentiment_intensity, dtype: int64"
     },
     "execution_count": 332,
     "metadata": {},
     "output_type": "execute_result"
    }
   ]
  },
  {
   "cell_type": "markdown",
   "metadata": {
    "id": "EPIcYA2IM8jt",
    "colab_type": "text"
   },
   "source": [
    "#### Features y Estimadores"
   ]
  },
  {
   "cell_type": "code",
   "metadata": {
    "id": "sRrZ8fCFCQk9",
    "colab_type": "code",
    "colab": {}
   },
   "source": [
    "from nltk.corpus import opinion_lexicon\n",
    "from better_profanity import profanity"
   ],
   "execution_count": 333,
   "outputs": []
  },
  {
   "cell_type": "code",
   "metadata": {
    "ExecuteTime": {
     "end_time": "2020-04-07T15:44:21.128600Z",
     "start_time": "2020-04-07T15:44:21.119624Z"
    },
    "id": "LsOWDM_8vKft",
    "colab_type": "code",
    "pycharm": {
     "name": "#%%\n"
    },
    "colab": {}
   },
   "source": [
    "# Feature de ejemplo\n",
    "# https://scikit-learn.org/stable/data_transforms.html\n",
    "\n",
    "class CountLenght(BaseEstimator, TransformerMixin):\n",
    "    def get_relevant_chars(self, tweet):\n",
    "        num_chars = len(tweet)\n",
    "        return [num_chars]\n",
    "\n",
    "    def transform(self, X, y=None):\n",
    "        chars = []\n",
    "        for tweet in X:\n",
    "            chars.append(self.get_relevant_chars(tweet))\n",
    "        return np.array(chars)\n",
    "\n",
    "    def fit(self, X, y=None):\n",
    "        return self\n",
    "\n",
    "\n",
    "class CharsCountTransformer(BaseEstimator, TransformerMixin):\n",
    "    def get_relevant_chars(self, tweet):\n",
    "        num_hashtags = tweet.count('#')       #\n",
    "        num_exclamations = tweet.count('!')   #\n",
    "        num_interrogations = tweet.count('?') #\n",
    "        num_dots = tweet.count('.')           #\n",
    "        num_emojis = emojis.count(tweet)      #\n",
    "        return [num_hashtags, \n",
    "                num_exclamations, \n",
    "                num_interrogations, \n",
    "                num_emojis, \n",
    "                num_dots]\n",
    "\n",
    "    def transform(self, X, y=None):\n",
    "        chars = []\n",
    "        for tweet in X:\n",
    "            chars.append(self.get_relevant_chars(tweet))\n",
    "\n",
    "        return np.array(chars)\n",
    "\n",
    "    def fit(self, X, y=None):\n",
    "        return self\n",
    "\n",
    "class SentimentScore(BaseEstimator, TransformerMixin):\n",
    "    def negate(self, number, boolean):\n",
    "        if boolean:\n",
    "            return -number\n",
    "        else:\n",
    "            return  number\n",
    "\n",
    "    def transform(self, X, y=None):\n",
    "        sentiment_array=[]\n",
    "        sentiment_pos = 0\n",
    "        sn = SenticNet()\n",
    "        for tweet in X:\n",
    "            moods = {\n",
    "                 '#sadness':0,\n",
    "                 '#disgust':0,\n",
    "                 '#joy':0,\n",
    "                 '#interest':0,\n",
    "                 '#admiration':0,\n",
    "                 '#anger':0,\n",
    "                 '#surprise':0,\n",
    "                 '#fear':0\n",
    "            }\n",
    "            mood_array = np.zeros(8)\n",
    "            tokenizer = TweetTokenizer()\n",
    "            tokens = tokenizer.tokenize(tweet)\n",
    "            tokens_neg = mark_negation(tokens)\n",
    "            for token in tokens_neg:\n",
    "                negated = False\n",
    "                if token[-4:] == \"_NEG\":\n",
    "                    negated = True\n",
    "                    token = token[:-4]\n",
    "                if token[:1] == \"#\":\n",
    "                    token = token[1:]\n",
    "                if token in sn.data:\n",
    "                    if sn.polarity_value(token) == 'positive':\n",
    "                        score = 1\n",
    "                    else:\n",
    "                        score = -1\n",
    "                    for tag in sn.moodtags(token):\n",
    "                        moods[tag] += self.negate(score, negated)\n",
    "\n",
    "            for idx, key in enumerate(moods):\n",
    "                mood_array[idx] = moods[key]\n",
    "\n",
    "\n",
    "            sentiment_array.append(mood_array)\n",
    "\n",
    "        return np.array(sentiment_array)\n",
    "\n",
    "    def fit(self, X, y=None):\n",
    "        return self\n",
    "\n",
    "    def fit(self, X, y=None):\n",
    "        return self\n",
    "\n",
    "\n",
    "\n",
    "class WordEmbeddingsTransformer(BaseEstimator, TransformerMixin):\n",
    "    # Usa el diccionario y encuentra su origen\n",
    "    def __init__(self, model):\n",
    "      self.model = model\n",
    "\n",
    "    def transform(self, X, y=None):\n",
    "        aggregation = np.mean\n",
    "        tokenizer = TweetTokenizer()\n",
    "        doc_embeddings = []\n",
    "        for tweet in X:\n",
    "            tokens = tokenizer.tokenize(tweet)\n",
    "            selected_words = []\n",
    "            for token in tokens:\n",
    "                if token in self.model.vocab:\n",
    "                    selected_words.append(self.model[token])\n",
    "            \n",
    "            if len(selected_words) > 0:\n",
    "                doc_emb = aggregation(np.array(selected_words), axis = 0)\n",
    "                doc_embeddings.append(doc_emb)\n",
    "            else:\n",
    "                doc_embeddings.append(np.zeros(self.model.vector_size))\n",
    "\n",
    "        return np.array(doc_embeddings)\n",
    "\n",
    "    def fit(self, X, y=None):\n",
    "        return self\n",
    "\n",
    "# Template para una feature\n",
    "class SentimentLexicon(BaseEstimator, TransformerMixin):\n",
    "    def fun(self, tweet):\n",
    "        tokenizer = TweetTokenizer()\n",
    "        tweet=tweet.replace(\"#\",'')\n",
    "        t=tokenizer.tokenize(tweet)\n",
    "        pos_list=set(opinion_lexicon.positive())\n",
    "        neg_list=set(opinion_lexicon.negative())\n",
    "        pos_words=0\n",
    "        neg_words=0\n",
    "        for i in t:\n",
    "            if i in pos_list:\n",
    "                pos_words=pos_words+1\n",
    "            elif i in neg_list:\n",
    "                neg_words=neg_words+1\n",
    "        return [pos_words,neg_words]\n",
    "    \n",
    "    def transform(self, X, y=None):\n",
    "        a_list = []\n",
    "        for tweet in X:\n",
    "            a_list.append(self.fun(tweet))\n",
    "        return a_list\n",
    "\n",
    "    def fit(self, X, y=None):\n",
    "        return self\n",
    "      \n",
    "class UpperLetters(BaseEstimator, TransformerMixin):\n",
    "    def fun(self, tweet):\n",
    "        tokenizer=TweetTokenizer()\n",
    "        t=tokenizer.tokenize(tweet)\n",
    "        largo=len(t)\n",
    "        num_Upper=0\n",
    "        for i in t:\n",
    "            if i.isupper() and len(i)>1:\n",
    "                num_Upper=num_Upper+1\n",
    "        return [num_Upper/largo]\n",
    "    \n",
    "    def transform(self, X, y=None):\n",
    "        a_list = []\n",
    "        for tweet in X:\n",
    "            a_list.append(self.fun(tweet))\n",
    "        return a_list\n",
    "\n",
    "    def fit(self, X, y=None):\n",
    "        return self\n",
    "\n",
    "class CurseWords(BaseEstimator, TransformerMixin):\n",
    "    def countCurseWords(self, tweet):\n",
    "        t=TweetTokenizer().tokenize(tweet)\n",
    "        x=0\n",
    "        for i in t:\n",
    "            if(profanity.contains_profanity(i)):\n",
    "                x=x+1\n",
    "        return [x]\n",
    "        \n",
    "    def transform(self, X, y=None):\n",
    "        a_list = []\n",
    "        for tweet in X:\n",
    "            a_list.append(self.countCurseWords(tweet))\n",
    "        return a_list\n",
    "\n",
    "    def fit(self, X, y=None):\n",
    "        return self\n",
    "\n",
    "class Emoticons(BaseEstimator, TransformerMixin):\n",
    "    def fun(self, tweet):\n",
    "        happy_faces=tweet.count(':)')\n",
    "        happy_faces=tweet.count(':D')+happy_faces\n",
    "        sad_faces=tweet.count(':(')\n",
    "        return [happy_faces,sad_faces]\n",
    "        \n",
    "    def transform(self, X, y=None):\n",
    "        a_list = []\n",
    "        for tweet in X:\n",
    "            a_list.append(self.fun(tweet))\n",
    "        return a_list\n",
    "\n",
    "    def fit(self, X, y=None):\n",
    "        return self\n",
    "  \n",
    "class NullFeature(BaseEstimator, TransformerMixin):\n",
    "    def __init__(self, dim):\n",
    "        self.dim = dim\n",
    "    \n",
    "    def transform(self, X, y=None):\n",
    "        a_list = []\n",
    "        for tweet in X:\n",
    "            a_list.append(np.zeros(self.dim))\n",
    "        return a_list\n",
    "\n",
    "    def fit(self, X, y=None):\n",
    "        return self\n"
   ],
   "execution_count": 334,
   "outputs": []
  },
  {
   "cell_type": "code",
   "metadata": {
    "pycharm": {
     "name": "#%%\n"
    },
    "id": "qTMLlbK76DAL",
    "colab_type": "code",
    "colab": {}
   },
   "source": [
    "# Estimator\n",
    "from sklearn.tree import DecisionTreeClassifier\n",
    "from sklearn.neighbors import KNeighborsClassifier\n",
    "from sklearn.ensemble import RandomForestClassifier\n",
    "# estimator = RandomForestClassifier(max_depth=5, n_estimators=10, max_features=1)\n",
    "# estimator = KNeighborsClassifier(3)\n",
    "# estimator = DecisionTreeClassifier(max_depth=3)\n",
    "from sklearn.multiclass import OneVsOneClassifier\n",
    "from sklearn.linear_model import PassiveAggressiveClassifier\n",
    "from sklearn.linear_model import SGDClassifier\n",
    "from sklearn.linear_model import LogisticRegression\n",
    "\n",
    "estimator = LogisticRegression(max_iter=1000000, multi_class=\"ovr\")\n",
    "\n",
    "# estimator = LogisticRegression(max_iter=1000000)\n",
    "from sklearn.neural_network import MLPClassifier\n"
   ],
   "execution_count": 335,
   "outputs": []
  },
  {
   "cell_type": "markdown",
   "metadata": {
    "collapsed": false,
    "id": "vnuia6l26DAP",
    "colab_type": "text"
   },
   "source": [
    "#### Pipeline ####"
   ]
  },
  {
   "cell_type": "code",
   "metadata": {
    "pycharm": {
     "name": "#%%\n"
    },
    "id": "XpDytuKx6DAP",
    "colab_type": "code",
    "colab": {}
   },
   "source": [
    "def sad_pipeline():\n",
    "    return Pipeline([('features',\n",
    "                      FeatureUnion([\n",
    "                                    ('length_count', CountLenght()),\n",
    "                                    ('chars_count', CharsCountTransformer()),\n",
    "                                    ('upperletters', UpperLetters()),\n",
    "                                    ('sentiment',SentimentLexicon()),\n",
    "                                    ('cursewords',CurseWords()),\n",
    "                                    ('word_embeddings', WordEmbeddingsTransformer(model)),\n",
    "                                    ('emoticons',Emoticons()),\n",
    "                                    ('sentiment_score',  SentimentScore())\n",
    "                                    ])), ('clf', estimator)])\n",
    "\n",
    "def angry_pipeline():\n",
    "    return Pipeline([('features',\n",
    "                      FeatureUnion([\n",
    "                                    ('length_count', NullFeature(1)),\n",
    "                                    ('chars_count', CharsCountTransformer()),\n",
    "                                    ('upperletters', UpperLetters()),\n",
    "                                    ('sentiment',SentimentLexicon()),\n",
    "                                    ('cursewords',CurseWords()),\n",
    "                                    ('word_embeddings', WordEmbeddingsTransformer(model)),\n",
    "                                    ('emoticons',Emoticons()),\n",
    "                                    ('sentiment_score', NullFeature(1))\n",
    "                                    ])), ('clf', estimator)])\n",
    "    \n",
    "def fear_pipeline():\n",
    "    return Pipeline([('features',\n",
    "                      FeatureUnion([\n",
    "                                    ('length_count', CountLenght()),\n",
    "                                    ('chars_count', CharsCountTransformer()),\n",
    "                                    ('upperletters', UpperLetters()),\n",
    "                                    ('sentiment',SentimentLexicon()),\n",
    "                                    ('cursewords',CurseWords()),\n",
    "                                    ('word_embeddings', WordEmbeddingsTransformer(model)),\n",
    "                                    ('emoticons',Emoticons()),\n",
    "                                    ('sentiment_score',  SentimentScore())\n",
    "                                    ])), ('clf', estimator)])\n",
    "\n",
    "def joy_pipeline():\n",
    "    return Pipeline([('features',\n",
    "                      FeatureUnion([\n",
    "                                    ('length_count', NullFeature(1)),\n",
    "                                    ('chars_count', CharsCountTransformer()),\n",
    "                                    ('upperletters', UpperLetters()),\n",
    "                                    ('sentiment',SentimentLexicon()),\n",
    "                                    ('cursewords',CurseWords()),\n",
    "                                    ('word_embeddings', WordEmbeddingsTransformer(model)),\n",
    "                                    ('emoticons',Emoticons()),\n",
    "                                    ('sentiment_score', SentimentScore())\n",
    "                                    ])), ('clf', estimator)])\n",
    "def general_pipeline():\n",
    "    return Pipeline([('features',\n",
    "                      FeatureUnion([\n",
    "                                    ('n-gram', CountVectorizer(analyzer='word', \n",
    "                                                               ngram_range=(1, 4),\n",
    "                                                               # tokenizer=t_tokenizer.tokenize,\n",
    "                                                               # preprocessor = mark_negation,\n",
    "                                                               max_features=170\n",
    "                                                               )), \n",
    "                                    #('length_count', CountLenght()), # discarded\n",
    "                                    ('chars_count', CharsCountTransformer()),\n",
    "                                    #('upperletters', UpperLetters()), # discarded\n",
    "                                    ('sentiment',SentimentLexicon()),\n",
    "                                    ('cursewords',CurseWords()),\n",
    "                                    ('word_embeddings', WordEmbeddingsTransformer(model)),\n",
    "                                    ('sentiment_score', SentimentScore()), # discarted\n",
    "                                    ('emoticons', Emoticons()),\n",
    "                                    ])), ('clf', estimator)])"
   ],
   "execution_count": 336,
   "outputs": []
  },
  {
   "cell_type": "code",
   "metadata": {
    "pycharm": {
     "name": "#%%\n"
    },
    "id": "OybMyiAF6DAV",
    "colab_type": "code",
    "colab": {}
   },
   "source": [
    "# Ejecutar el pipeline para algun data-set\n",
    "def run(dataset, dataset_name, pipeline):\n",
    "    \"\"\"Creamos el pipeline y luego lo ejecutamos el pipeline sobre un dataset. \n",
    "    Retorna el modelo ya entrenado mas sus labels asociadas y los scores obtenidos al evaluarlo.\"\"\"\n",
    "\n",
    "    # Dividimos el dataset en train y test.\n",
    "    X_train, X_test, y_train, y_test = train_test_split(\n",
    "        dataset.tweet,\n",
    "        dataset.sentiment_intensity,\n",
    "        shuffle=True,\n",
    "        test_size=0.33,\n",
    "        random_state=123)\n",
    "\n",
    "    # Entrenamos el clasificador (Ejecuta el entrenamiento sobre todo el pipeline)\n",
    "    pipeline.fit(X_train, y_train)\n",
    "\n",
    "    # Predecimos las probabilidades de intensidad de cada elemento del set de prueba.\n",
    "    predicted_probabilities = pipeline.predict_proba(X_test)\n",
    "\n",
    "    # Obtenemos el orden de las clases aprendidas.\n",
    "    learned_labels = pipeline.classes_\n",
    "\n",
    "    # Evaluamos:\n",
    "    scores = evaulate(predicted_probabilities, y_test, learned_labels, dataset_name, True)\n",
    "    return pipeline, learned_labels, scores\n",
    "    "
   ],
   "execution_count": 337,
   "outputs": []
  },
  {
   "cell_type": "markdown",
   "metadata": {
    "collapsed": false,
    "pycharm": {
     "name": "#%% md\n"
    },
    "id": "pTe6kzfU6DAZ",
    "colab_type": "text"
   },
   "source": [
    "# Experiments\n"
   ]
  },
  {
   "cell_type": "code",
   "metadata": {
    "pycharm": {
     "name": "#%%\n"
    },
    "id": "qtGMBZ6w6DAc",
    "colab_type": "code",
    "colab": {}
   },
   "source": [
    "pipelines = {'anger':angry_pipeline(), 'fear':fear_pipeline(), 'joy':joy_pipeline(), 'sadness':sad_pipeline() }\n",
    "datasets = {'anger':df_downsampled_enojo, 'fear':df_downsampled_miedo, 'joy':df_downsampled_alegria, 'sadness':df_downsampled_tristeza}\n",
    "\n",
    "# Get clasif/labels/scores\n",
    "classifiers = []\n",
    "learned_labels_array = []\n",
    "scores_array = []\n",
    "\n",
    "for dataset_name, dataset in train.items():\n",
    "\n",
    "    # creamos el pipeline\n",
    "    pipeline = general_pipeline()\n",
    "    # pipeline = pipelines.get(dataset_name)\n",
    "\n",
    "    # ejecutamos el pipeline sobre el dataset\n",
    "    classifier, learned_labels, scores = run(datasets.get(dataset_name), dataset_name, pipeline)\n",
    "\n",
    "    # guardamos el clasificador entrenado (en realidad es el pipeline ya entrenado...)\n",
    "    classifiers.append(classifier)\n",
    "\n",
    "    # guardamos las labels aprendidas por el clasificador\n",
    "    learned_labels_array.append(learned_labels)\n",
    "\n",
    "    # guardamos los scores obtenidos\n",
    "    scores_array.append(scores)\n",
    "\n",
    "\n",
    "# print avg scores\n",
    "print(\n",
    "    \"Average scores:\\n\\n\",\n",
    "    \"Average AUC: {0:.3g}\\t Average Kappa: {1:.3g}\\t Average Accuracy: {2:.3g}\"\n",
    "    .format(*np.array(scores_array).mean(axis=0)))\n"
   ],
   "execution_count": 338,
   "outputs": [
    {
     "name": "stdout",
     "output_type": "stream",
     "text": [
      "Confusion Matrix for anger:\n",
      "\n",
      "[[32 21  6]\n",
      " [11 28 13]\n",
      " [ 1 19 30]]\n",
      "\n",
      "Classification Report:\n",
      "\n",
      "              precision    recall  f1-score   support\n",
      "\n",
      "         low       0.73      0.54      0.62        59\n",
      "      medium       0.41      0.54      0.47        52\n",
      "        high       0.61      0.60      0.61        50\n",
      "\n",
      "    accuracy                           0.56       161\n",
      "   macro avg       0.58      0.56      0.56       161\n",
      "weighted avg       0.59      0.56      0.57       161\n",
      "\n",
      "anger\tScores:\n",
      "\n",
      "AUC:  0.715\tKappa: 0.341\tAccuracy: 0.559\n",
      "------------------------------------------------------\n",
      "\n",
      "Confusion Matrix for fear:\n",
      "\n",
      "[[61 22  9]\n",
      " [28 41 26]\n",
      " [12 18 57]]\n",
      "\n",
      "Classification Report:\n",
      "\n",
      "              precision    recall  f1-score   support\n",
      "\n",
      "         low       0.60      0.66      0.63        92\n",
      "      medium       0.51      0.43      0.47        95\n",
      "        high       0.62      0.66      0.64        87\n",
      "\n",
      "    accuracy                           0.58       274\n",
      "   macro avg       0.58      0.58      0.58       274\n",
      "weighted avg       0.58      0.58      0.58       274\n",
      "\n",
      "fear\tScores:\n",
      "\n",
      "AUC:  0.72\tKappa: 0.371\tAccuracy: 0.58\n",
      "------------------------------------------------------\n",
      "\n",
      "Confusion Matrix for joy:\n",
      "\n",
      "[[47 23  6]\n",
      " [23 28 12]\n",
      " [ 4  8 52]]\n",
      "\n",
      "Classification Report:\n",
      "\n",
      "              precision    recall  f1-score   support\n",
      "\n",
      "         low       0.64      0.62      0.63        76\n",
      "      medium       0.47      0.44      0.46        63\n",
      "        high       0.74      0.81      0.78        64\n",
      "\n",
      "    accuracy                           0.63       203\n",
      "   macro avg       0.62      0.63      0.62       203\n",
      "weighted avg       0.62      0.63      0.62       203\n",
      "\n",
      "joy\tScores:\n",
      "\n",
      "AUC:  0.775\tKappa: 0.437\tAccuracy: 0.626\n",
      "------------------------------------------------------\n",
      "\n",
      "Confusion Matrix for sadness:\n",
      "\n",
      "[[49 15  8]\n",
      " [18 33 13]\n",
      " [10 17 38]]\n",
      "\n",
      "Classification Report:\n",
      "\n",
      "              precision    recall  f1-score   support\n",
      "\n",
      "         low       0.64      0.68      0.66        72\n",
      "      medium       0.51      0.52      0.51        64\n",
      "        high       0.64      0.58      0.61        65\n",
      "\n",
      "    accuracy                           0.60       201\n",
      "   macro avg       0.60      0.59      0.59       201\n",
      "weighted avg       0.60      0.60      0.60       201\n",
      "\n",
      "sadness\tScores:\n",
      "\n",
      "AUC:  0.746\tKappa: 0.394\tAccuracy: 0.597\n",
      "------------------------------------------------------\n",
      "\n",
      "Average scores:\n",
      "\n",
      " Average AUC: 0.739\t Average Kappa: 0.386\t Average Accuracy: 0.591\n"
     ]
    }
   ]
  },
  {
   "cell_type": "markdown",
   "metadata": {
    "ExecuteTime": {
     "end_time": "2019-08-21T19:37:43.169737Z",
     "start_time": "2019-08-21T19:37:43.166744Z"
    },
    "id": "9kKHJB1hvKgc",
    "colab_type": "text"
   },
   "source": [
    "### Predecir los target set y crear la submission\n",
    "\n",
    "Aquí predecimos los target set usando los clasificadores creados y creamos los archivos de las submissions."
   ]
  },
  {
   "cell_type": "code",
   "metadata": {
    "ExecuteTime": {
     "end_time": "2020-04-07T15:44:21.392097Z",
     "start_time": "2020-04-07T15:44:21.386114Z"
    },
    "id": "J2n-WL2VvKgd",
    "colab_type": "code",
    "colab": {}
   },
   "source": [
    "def predict_target(dataset, classifier, labels):\n",
    "    # Predecir las probabilidades de intensidad de cada elemento del target set.\n",
    "    predicted = pd.DataFrame(classifier.predict_proba(dataset.tweet), columns=labels)\n",
    "    # Agregar ids\n",
    "    predicted['id'] = dataset.id.values\n",
    "    # Reordenar las columnas\n",
    "    predicted = predicted[['id', 'low', 'medium', 'high']]\n",
    "    return predicted"
   ],
   "execution_count": 339,
   "outputs": []
  },
  {
   "cell_type": "code",
   "metadata": {
    "ExecuteTime": {
     "end_time": "2020-04-07T15:44:21.588573Z",
     "start_time": "2020-04-07T15:44:21.394094Z"
    },
    "scrolled": true,
    "id": "67FPoKJUvKgk",
    "colab_type": "code",
    "outputId": "34f13f7f-2f6c-4cc5-d0cc-cd6dc342beb3",
    "colab": {
     "base_uri": "https://localhost:8080/",
     "height": 997
    }
   },
   "source": [
    "predicted_target = {}\n",
    "\n",
    "# Crear carpeta ./predictions\n",
    "if (not os.path.exists('./predictions')):\n",
    "    os.mkdir('./predictions')\n",
    "\n",
    "else:\n",
    "    # Eliminar predicciones anteriores:\n",
    "    shutil.rmtree('./predictions')\n",
    "    os.mkdir('./predictions')\n",
    "\n",
    "# por cada target set:\n",
    "for idx, key in enumerate(target):\n",
    "    # Predecirlo\n",
    "    predicted_target[key] = predict_target(target[key], classifiers[idx],\n",
    "                                           learned_labels_array[idx])\n",
    "    # Guardar predicciones en archivos separados. \n",
    "    predicted_target[key].to_csv('./predictions/{}-pred.txt'.format(key),\n",
    "                                 sep='\\t',\n",
    "                                 header=False,\n",
    "                                 index=False)\n",
    "\n",
    "# Crear archivo zip\n",
    "a = shutil.make_archive('predictions', 'zip', './predictions')\n",
    "\n",
    "print(predicted_target)"
   ],
   "execution_count": 340,
   "outputs": [
    {
     "name": "stdout",
     "output_type": "stream",
     "text": [
      "{'anger':         id       low    medium      high\n",
      "0    10941  0.389336  0.565437  0.045227\n",
      "1    10942  0.163320  0.285993  0.550687\n",
      "2    10943  0.027140  0.889262  0.083598\n",
      "3    10944  0.082243  0.038860  0.878898\n",
      "4    10945  0.050812  0.021945  0.927244\n",
      "..     ...       ...       ...       ...\n",
      "755  11696  0.018151  0.898850  0.082999\n",
      "756  11697  0.633322  0.351030  0.015648\n",
      "757  11698  0.107634  0.205335  0.687031\n",
      "758  11699  0.211639  0.754600  0.033762\n",
      "759  11700  0.020096  0.121874  0.858030\n",
      "\n",
      "[760 rows x 4 columns], 'fear':         id       low    medium      high\n",
      "0    21257  0.486083  0.362792  0.151125\n",
      "1    21258  0.123833  0.745423  0.130744\n",
      "2    21259  0.212647  0.006885  0.780468\n",
      "3    21260  0.237389  0.418004  0.344607\n",
      "4    21261  0.244155  0.007791  0.748054\n",
      "..     ...       ...       ...       ...\n",
      "990  22247  0.132696  0.724059  0.143245\n",
      "991  22248  0.511467  0.143873  0.344659\n",
      "992  22249  0.578665  0.074706  0.346630\n",
      "993  22250  0.811115  0.068660  0.120225\n",
      "994  22251  0.024591  0.397250  0.578159\n",
      "\n",
      "[995 rows x 4 columns], 'joy':         id       low    medium      high\n",
      "0    30902  0.799551  0.083237  0.117212\n",
      "1    30903  0.677250  0.035536  0.287214\n",
      "2    30904  0.125156  0.418268  0.456576\n",
      "3    30905  0.919389  0.008572  0.072039\n",
      "4    30906  0.004818  0.416191  0.578992\n",
      "..     ...       ...       ...       ...\n",
      "709  31611  0.832581  0.000253  0.167166\n",
      "710  31612  0.538437  0.381910  0.079653\n",
      "711  31613  0.056066  0.319355  0.624579\n",
      "712  31614  0.534178  0.449615  0.016207\n",
      "713  31615  0.893217  0.005767  0.101016\n",
      "\n",
      "[714 rows x 4 columns], 'sadness':         id       low    medium      high\n",
      "0    40860  0.293467  0.080924  0.625609\n",
      "1    40861  0.759615  0.092673  0.147712\n",
      "2    40862  0.049117  0.185675  0.765209\n",
      "3    40863  0.138410  0.279214  0.582376\n",
      "4    40864  0.291249  0.004460  0.704292\n",
      "..     ...       ...       ...       ...\n",
      "668  41528  0.372934  0.427226  0.199840\n",
      "669  41529  0.015447  0.336212  0.648342\n",
      "670  41530  0.019573  0.311553  0.668874\n",
      "671  41531  0.439291  0.544810  0.015899\n",
      "672  41532  0.527307  0.469848  0.002845\n",
      "\n",
      "[673 rows x 4 columns]}\n"
     ]
    }
   ]
  },
  {
   "cell_type": "markdown",
   "metadata": {
    "id": "XG1HKffVvKgq",
    "colab_type": "text"
   },
   "source": [
    "## 6. Conclusiones"
   ]
  },
  {
   "cell_type": "markdown",
   "metadata": {
    "id": "GTJLC8nNvKgr",
    "colab_type": "text"
   },
   "source": [
    "..."
   ]
  }
 ]
}