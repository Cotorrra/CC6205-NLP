{
 "cells": [
  {
   "cell_type": "markdown",
   "metadata": {
    "ExecuteTime": {
     "end_time": "2020-03-31T13:49:08.174519Z",
     "start_time": "2020-03-31T13:49:08.165989Z"
    },
    "colab_type": "text",
    "id": "G2G9R-pQvKbr"
   },
   "source": [
    "# Tarea 1 NLP : Competencia de Clasificación de Texto\n",
    "-------------------------------\n"
   ]
  },
  {
   "cell_type": "markdown",
   "metadata": {
    "colab_type": "text",
    "id": "MCrkqG4JvKbz"
   },
   "source": [
    "- **Nombres:** Valentina Sepulveda, Joaquín Pérez\n",
    "\n",
    "- **Usuario o nombre de equipo en Codalab:** \n",
    "\n",
    "\n"
   ]
  },
  {
   "cell_type": "markdown",
   "metadata": {
    "ExecuteTime": {
     "end_time": "2020-04-07T14:34:38.796217Z",
     "start_time": "2020-04-07T14:34:38.782255Z"
    },
    "colab_type": "text",
    "id": "7h1JBoHEvKcI"
   },
   "source": [
    "### Detalles e instrucciones de la competencia:\n",
    "\n",
    "- La competencia consiste en resolver 4 problemas de clasificación distintos, cada uno de tres clases. Por cada problema deberán crear un clasificador distinto. La evaluación de la competencia se realiza en base a 4 métricas: AUC, Kappa y Accuracy. Los mejores puntajes en cada ítem serán los que ganen.\n",
    "\n",
    "- Para comenzar se les entregará en este notebook el baseline y la estructura del reporte. El baseline es el código que realiza creación de features y clasificación básica. Los puntajes de este serán ocupados como base para la competencia: deben superar sus resultados para ser bien evaluados.  \n",
    "\n",
    "- Para participar, deben registrarse en Codalab y luego ingresar a la competencia usando el siguiente [link]( https://competitions.codalab.org/competitions/24121?secret_key=f5eb2d95-b36e-4aad-8fc5-4d9d77f4e4dc). \n",
    "\n",
    "- **Es requisito entregar el reporte con el código y haber participado en la competencia para ser evaluado.**\n",
    "\n",
    "- Pueden hacer grupos de máximo 2 alumnos. Cada grupo debe tener un nombre de equipo (En codalab, ir a settings y después cambiar Team Name). Solo una persona debe administrar la cuenta del grupo.\n",
    "\n",
    "- En total pueden hacer un **máximo de 4 envíos/submissions** (tanto para equipos como para envíos indivuales).\n",
    "\n",
    "- Hagan varios experimentos haciendo cross-validation o evaluación sobre una sub-partición antes de enviar sus predicciones a Codalab. Asegúrense que la distribución de las clases sea balanceada en las particiones de training y testing. Verificar que el formato de la submission coincida con el de la competencia. De lo contrario, se les será evaluado incorrectamente.\n",
    "\n",
    "- Estar top 5 en alguna métrica equivale a 1 punto extra en la nota final.\n",
    "\n",
    "- No se limiten a los contenidos vistos ni a scikit ni a este baseline. ¡Usen todo su conocimiento e ingenio en mejorar sus sistemas! \n",
    "\n",
    "- Todas las dudas escríbanlas en el hilo de U-cursos de la tarea. Los emails que lleguen al equipo docente serán remitidos a ese medio.\n"
   ]
  },
  {
   "cell_type": "markdown",
   "metadata": {
    "colab_type": "text",
    "id": "N8W8H7JKvKcO"
   },
   "source": [
    "### Reporte\n",
    "\n",
    "Este debe cumplir la siguiente estructura:\n",
    "\n",
    "1.\t**Introducción**: Presentar brevemente el problema a resolver, los métodos y representaciones utilizadas en el desarrollo de la tarea y conclusiones obtenidas. (0.5 Puntos)\n",
    "2.\t**Representaciones**: Describir los atributos y representaciones usadas como entrada de los clasificadores. Si bien, con Bag of Words (baseline) ya se comienzan a percibir buenos resultados, pueden mejorar su evaluación agregando más atributos y representaciones diseñadas a mano. Mas abajo encontrarán una lista útil de estos que les podrá ser de utilidad. (1.5 puntos)\n",
    "3.\t**Algoritmos**: Describir brevemente los algoritmos de clasificación usados. (0.5 puntos)\n",
    "4.\t**Métricas de evaluación**: Describir brevemente las métricas utilizadas en la evaluación indicando que miden y su interpretación. (0.5 puntos)\n",
    "5.\t**Experimentos**: Reportar todos sus experimentos. Comparar los resultados obtenidos utilizando diferentes algoritmos y representaciones. Estos experimentos los hacen sobre la sub-partición de evaluación que deben crear (o pueden usar cross-validation). Incluyan todo el código de sus experimentos aquí. ¡Es vital haber realizado varios experimentos para sacar una buena nota! (2 puntos)\n",
    "6.\t**Conclusiones**: Discutir resultados, proponer trabajo futuro. (1 punto)"
   ]
  },
  {
   "cell_type": "markdown",
   "metadata": {
    "ExecuteTime": {
     "end_time": "2019-08-21T19:18:43.301002Z",
     "start_time": "2019-08-21T19:18:43.298037Z"
    },
    "colab_type": "text",
    "id": "UQ53VkYdvKcU"
   },
   "source": [
    "### Baseline\n",
    "\n",
    "Por último, el baseline contiene un código básico que:\n",
    "\n",
    "- Obtiene los dataset.\n",
    "- Divide los datasets en train (entrenamiento y prueba) y target set (el que clasificar para subir a la competencia).\n",
    "- Crea un Pipeline que: \n",
    "    - Crea features personalizadas.\n",
    "    - Transforma los dataset a bag of words (BoW).  \n",
    "    - Entrena un clasificador usando cada train set.\n",
    "- Clasifica y evalua el sistema creado usando el test set.\n",
    "- Clasifica el target set.\n",
    "- Genera una submission con el target en formato zip en el directorio en donde se está ejecutando el notebook. \n",
    "\n",
    "\n",
    "Algunas pistas sobre como mejorar el rendimiento de los sistemas que creen. (Esto tendrá mas sentido cuando vean el código)\n",
    "\n",
    "- **Vectorizador**: investigar los modulos de `nltk`, en particular, `TweetTokenizer`, `mark_negation` para reemplazar los tokenizadores. También, el parámetro `ngram_range` (Ojo que el clf naive bayes no debería usarse con n-gramas, ya que rompe el supuesto de independencia). Además, implementar los atributos que crean útiles desde el listado del el enunciado. Investigar también el vectorizador tf-idf.\n",
    "\n",
    "- **Clasificador**: investigar otros clasificadores mas efectivos que naive bayes. Estos deben poder retornar la probabilidad de pertenecia de las clases (ie: implementar la función `predict_proba`).\n",
    "\n",
    "- **Features**: Recuerden que pueden implementar todas las features que se les ocurra! Aquí les adjuntamos algunos ejemplos:\n",
    "    -\tWord n-grams.\n",
    "    -\tCharacter n-grams. \n",
    "    -\tPart-of-speech tags.\n",
    "    -\tSentiment Lexicons (Lexicon = A set of words with a label or associated value.).\n",
    "        - Count the number of positive and negative words within a sentence.\n",
    "        - If the lexicon has associated intensity of feeling (for example in a decimal), then take the average of the intensity of the sentence according to the feeling, the sum, etc.\n",
    "        -\tA good lexicon of sentiment: [Bing Liu](http://www.cs.uic.edu/~liub/FBS/opinion-lexicon-English.rar) \n",
    "        - A reference with a lot of [sentiment lexicons](https://medium.com/@datamonsters/sentiment-analysis-tools-overview-part-1-positive-and-negative-words-databases-ae35431a470c). \n",
    "    -\tThe number of elongated words (words with one character repeated more than two times).\n",
    "    -\tThe number of words with all characters in uppercase.\n",
    "    -\tThe presence and the number of positive or negative emoticons.\n",
    "    -\tThe number of individual negations.\n",
    "    -\tThe number of contiguous sequences of dots, question marks and exclamation marks.\n",
    "    -\tWord Embeddings: Here are some good ideas on how to use them.\n",
    "    https://stats.stackexchange.com/questions/221715/apply-word-embeddings-to-entire-document-to-get-a-feature-vector\n",
    "\n",
    "- **Reducción de dimensionalidad**: También puede serles de ayuda. Referencias [aquí](https://scikit-learn.org/stable/modules/unsupervised_reduction.html).\n",
    "\n",
    "- Por último, pueden encontrar mas referencias de cómo mejorar sus features, el vectorizador y el clasificador [aquí](https://affectivetweets.cms.waikato.ac.nz/benchmark/)."
   ]
  },
  {
   "cell_type": "markdown",
   "metadata": {
    "colab_type": "text",
    "id": "-GGbVakLvKcn"
   },
   "source": [
    "----------------------------------------"
   ]
  },
  {
   "cell_type": "markdown",
   "metadata": {
    "colab_type": "text",
    "id": "SIDyXa6f-HgY"
   },
   "source": [
    "# 0. TODO\n",
    "- MOAR Features\n",
    "\n",
    "- Experimentar."
   ]
  },
  {
   "cell_type": "markdown",
   "metadata": {
    "ExecuteTime": {
     "end_time": "2020-03-31T13:34:25.683540Z",
     "start_time": "2020-03-31T13:34:25.673430Z"
    },
    "colab_type": "text",
    "id": "TGUTH412vKct"
   },
   "source": [
    "## 1. Introducción"
   ]
  },
  {
   "cell_type": "markdown",
   "metadata": {
    "ExecuteTime": {
     "end_time": "2020-03-31T13:47:13.474238Z",
     "start_time": "2020-03-31T13:47:13.454068Z"
    },
    "colab_type": "text",
    "id": "BJobCgn5vKc1"
   },
   "source": [
    "## 2. Representaciones\n",
    "\n",
    "Para las representaciones se escogio..."
   ]
  },
  {
   "cell_type": "markdown",
   "metadata": {
    "colab_type": "text",
    "id": "9RDLeGcSvKc-"
   },
   "source": [
    "## 3. Algoritmos\n",
    "\n",
    "De los algoritmos de clasificación se decidió..."
   ]
  },
  {
   "cell_type": "markdown",
   "metadata": {
    "colab_type": "text",
    "id": "RQSGEDwqvKdM"
   },
   "source": [
    "## 4. Métricas de Evaluación\n",
    "\n",
    "- AUC: ...\n",
    "- Kappa: El coeficiente kappa de Cohen es una métrica que establece qué tan certero es el clasificador con los resultados esperados teniendo en cuenta la posibilidad de que las predicciones acertadas pudieron haber sido por mero azar.\n",
    "\n",
    "- Accuracy: El Accuracy mide la proporción de aciertos del clasificador de forma simple, contando la cantidad de clases bien predichas versus la cantidad de predicciones realizadas.\n"
   ]
  },
  {
   "cell_type": "markdown",
   "metadata": {
    "colab_type": "text",
    "id": "8x_qQLaHvKdQ"
   },
   "source": [
    "## 5. Experimentos"
   ]
  },
  {
   "cell_type": "markdown",
   "metadata": {
    "ExecuteTime": {
     "end_time": "2020-03-31T13:31:40.023344Z",
     "start_time": "2020-03-31T13:31:40.003541Z"
    },
    "colab_type": "text",
    "id": "_JSwCF_bvKdY"
   },
   "source": [
    "### Importar librerías y utiles"
   ]
  },
  {
   "cell_type": "code",
   "execution_count": 29,
   "metadata": {
    "colab": {
     "base_uri": "https://localhost:8080/",
     "height": 382
    },
    "colab_type": "code",
    "id": "EXzxb-SpATDg",
    "outputId": "8b5ac5e7-d6ce-44b1-ff81-1dec36bf15ed",
    "pycharm": {
     "name": "#%%\n",
     "is_executing": false
    }
   },
   "outputs": [],
   "source": [
    "# Set-up\n",
    "try:\n",
    "    import emojis\n",
    "except ImportError:\n",
    "    !pip install emojis\n",
    "    import emojis\n",
    "\n",
    "try:\n",
    "    import gensim.downloader as api\n",
    "except ImportError:\n",
    "    !pip install gensim\n",
    "    import gensim.downloader as api\n",
    "\n",
    "try:\n",
    "    from better_profanity import profanity\n",
    "except ImportError:\n",
    "    !pip install better_profanity\n",
    "    from better_profanity import profanity\n",
    "\n",
    "try:\n",
    "    from senticnet.senticnet import SenticNet\n",
    "except ImportError:\n",
    "    !pip install senticnet\n",
    "    from senticnet.senticnet import SenticNet\n",
    "\n",
    "import nltk"
   ]
  },
  {
   "cell_type": "code",
   "execution_count": 30,
   "metadata": {
    "ExecuteTime": {
     "end_time": "2020-04-07T15:44:20.587160Z",
     "start_time": "2020-04-07T15:44:19.319386Z"
    },
    "colab": {
     "base_uri": "https://localhost:8080/",
     "height": 164
    },
    "colab_type": "code",
    "id": "2HRJf2t7vKdc",
    "outputId": "0978ee4f-5980-4371-b300-2732d6a6d1b3",
    "pycharm": {
     "name": "#%%\n",
     "is_executing": false
    }
   },
   "outputs": [
    {
     "name": "stderr",
     "text": [
      "[nltk_data] Downloading package opinion_lexicon to\n[nltk_data]     C:\\Users\\Birro\\AppData\\Roaming\\nltk_data...\n[nltk_data]   Package opinion_lexicon is already up-to-date!\n"
     ],
     "output_type": "stream"
    }
   ],
   "source": [
    "import pandas as pd\n",
    "import os\n",
    "import numpy as np\n",
    "import shutil\n",
    "\n",
    "import gensim.downloader as api # https://github.com/RaRe-Technologies/gensim-data\n",
    "# get the model\n",
    "model = api.load(\"glove-twitter-50\")\n",
    "nltk.download('opinion_lexicon')\n",
    "\n",
    "from nltk.tokenize import TweetTokenizer\n",
    "from nltk.sentiment.util import mark_negation\n",
    "\n",
    "from sklearn.feature_extraction.text import CountVectorizer\n",
    "from sklearn.naive_bayes import MultinomialNB\n",
    "from sklearn.pipeline import Pipeline, FeatureUnion\n",
    "from sklearn.metrics import confusion_matrix, cohen_kappa_score, classification_report, accuracy_score, roc_auc_score\n",
    "from sklearn.model_selection import train_test_split\n",
    "from sklearn.base import BaseEstimator, TransformerMixin\n",
    "from sklearn.linear_model import LogisticRegression\n",
    "from sklearn.multiclass import OneVsRestClassifier\n",
    "\n"
   ]
  },
  {
   "cell_type": "markdown",
   "metadata": {
    "colab_type": "text",
    "id": "KJiP8jlOvKd1"
   },
   "source": [
    "### Definir métodos de evaluación\n",
    "\n",
    "Estas funciones están a cargo de evaluar los resultados de la tarea. No deberían cambiarlas.\n"
   ]
  },
  {
   "cell_type": "code",
   "execution_count": 31,
   "metadata": {
    "ExecuteTime": {
     "end_time": "2020-04-07T15:44:20.604066Z",
     "start_time": "2020-04-07T15:44:20.589106Z"
    },
    "colab": {},
    "colab_type": "code",
    "id": "SMWRq5nPvKeA",
    "pycharm": {
     "name": "#%%\n",
     "is_executing": false
    }
   },
   "outputs": [],
   "source": [
    "def auc_score(test_set, predicted_set):\n",
    "    high_predicted = np.array([prediction[2] for prediction in predicted_set])\n",
    "    medium_predicted = np.array(\n",
    "        [prediction[1] for prediction in predicted_set])\n",
    "    low_predicted = np.array([prediction[0] for prediction in predicted_set])\n",
    "    high_test = np.where(test_set == 'high', 1.0, 0.0)\n",
    "    medium_test = np.where(test_set == 'medium', 1.0, 0.0)\n",
    "    low_test = np.where(test_set == 'low', 1.0, 0.0)\n",
    "    auc_high = roc_auc_score(high_test, high_predicted)\n",
    "    auc_med = roc_auc_score(medium_test, medium_predicted)\n",
    "    auc_low = roc_auc_score(low_test, low_predicted)\n",
    "    auc_w = (low_test.sum() * auc_low + medium_test.sum() * auc_med +\n",
    "             high_test.sum() * auc_high) / (\n",
    "                 low_test.sum() + medium_test.sum() + high_test.sum())\n",
    "    return auc_w\n",
    "\n",
    "\n",
    "def evaulate(predicted_probabilities, y_test, labels, dataset_name):\n",
    "    # Importante: al transformar los arreglos de probabilidad a clases,\n",
    "    # entregar el arreglo de clases aprendido por el clasificador.\n",
    "    # (que comunmente, es distinto a ['low', 'medium', 'high'])\n",
    "    predicted_labels = [\n",
    "        labels[np.argmax(item)] for item in predicted_probabilities\n",
    "    ]\n",
    "    print('Confusion Matrix for {}:\\n'.format(dataset_name))\n",
    "    print(\n",
    "        confusion_matrix(y_test,\n",
    "                         predicted_labels,\n",
    "                         labels=['low', 'medium', 'high']))\n",
    "\n",
    "    print('\\nClassification Report:\\n')\n",
    "    print(\n",
    "        classification_report(y_test,\n",
    "                              predicted_labels,\n",
    "                              labels=['low', 'medium', 'high']))\n",
    "    # Reorder predicted probabilities array.\n",
    "    labels = labels.tolist()\n",
    "    predicted_probabilities = predicted_probabilities[:, [\n",
    "        labels.index('low'),\n",
    "        labels.index('medium'),\n",
    "        labels.index('high')\n",
    "    ]]\n",
    "    print(dataset_name, end='\\t')\n",
    "    auc = round(auc_score(y_test, predicted_probabilities), 3)\n",
    "    print(\"Scores:\\n\\nAUC: \", auc, end='\\t')\n",
    "    kappa = round(cohen_kappa_score(y_test, predicted_labels), 3)\n",
    "    print(\"Kappa:\", kappa, end='\\t')\n",
    "    accuracy = round(accuracy_score(y_test, predicted_labels), 3)\n",
    "    print(\"Accuracy:\", accuracy)\n",
    "    print('------------------------------------------------------\\n')\n",
    "    return np.array([auc, kappa, accuracy])"
   ]
  },
  {
   "cell_type": "markdown",
   "metadata": {
    "colab_type": "text",
    "id": "RK3Srgqu_yTI"
   },
   "source": [
    "### Datos ####"
   ]
  },
  {
   "cell_type": "code",
   "execution_count": 32,
   "metadata": {
    "colab": {},
    "colab_type": "code",
    "id": "FauIAEaMqBRS",
    "pycharm": {
     "name": "#%%\n",
     "is_executing": false
    }
   },
   "outputs": [],
   "source": [
    "\n",
    "# Datasets de entrenamiento.\n",
    "train = {\n",
    "    'anger': pd.read_csv('https://raw.githubusercontent.com/dccuchile/CC6205/master/assignments/assignment_1/data/train/anger-train.txt', sep='\\t', names=['id', 'tweet', 'class', 'sentiment_intensity']),\n",
    "    'fear': pd.read_csv('https://raw.githubusercontent.com/dccuchile/CC6205/master/assignments/assignment_1/data/train/fear-train.txt', sep='\\t', names=['id', 'tweet', 'class', 'sentiment_intensity']),\n",
    "    'joy': pd.read_csv('https://raw.githubusercontent.com/dccuchile/CC6205/master/assignments/assignment_1/data/train/joy-train.txt', sep='\\t', names=['id', 'tweet', 'class', 'sentiment_intensity']),\n",
    "    'sadness': pd.read_csv('https://raw.githubusercontent.com/dccuchile/CC6205/master/assignments/assignment_1/data/train/sadness-train.txt', sep='\\t', names=['id', 'tweet', 'class', 'sentiment_intensity'])\n",
    "}\n",
    "# Datasets que deberán predecir para la competencia.\n",
    "target = {\n",
    "    'anger': pd.read_csv('https://raw.githubusercontent.com/dccuchile/CC6205/master/assignments/assignment_1/data/target/anger-target.txt', sep='\\t', names=['id', 'tweet', 'class', 'sentiment_intensity'], na_values=['NONE']),\n",
    "    'fear': pd.read_csv('https://raw.githubusercontent.com/dccuchile/CC6205/master/assignments/assignment_1/data/target/fear-target.txt', sep='\\t', names=['id', 'tweet', 'class', 'sentiment_intensity'], na_values=['NONE']),\n",
    "    'joy': pd.read_csv('https://raw.githubusercontent.com/dccuchile/CC6205/master/assignments/assignment_1/data/target/joy-target.txt', sep='\\t', names=['id', 'tweet', 'class', 'sentiment_intensity'], na_values=['NONE']),\n",
    "    'sadness': pd.read_csv('https://raw.githubusercontent.com/dccuchile/CC6205/master/assignments/assignment_1/data/target/sadness-target.txt', sep='\\t', names=['id', 'tweet', 'class', 'sentiment_intensity'], na_values=['NONE'])\n",
    "}"
   ]
  },
  {
   "cell_type": "markdown",
   "metadata": {
    "colab_type": "text",
    "id": "9DoBu0XyvKfG"
   },
   "source": [
    "### Analizar los datos \n",
    "\n",
    "Imprimir la cantidad de tweets de cada dataset, según su intensidad de sentimiento. Noten que las clases están desbalanceadas. "
   ]
  },
  {
   "cell_type": "code",
   "execution_count": 33,
   "metadata": {
    "ExecuteTime": {
     "end_time": "2020-04-07T15:44:21.117633Z",
     "start_time": "2020-04-07T15:44:21.090703Z"
    },
    "colab": {
     "base_uri": "https://localhost:8080/",
     "height": 598
    },
    "colab_type": "code",
    "id": "iLit4HlFvKfK",
    "outputId": "583d2699-69ea-49c6-a177-da86376b1fc6",
    "pycharm": {
     "is_executing": false
    }
   },
   "outputs": [
    {
     "name": "stdout",
     "text": [
      "anger \n                       id  tweet  class\nsentiment_intensity                   \nhigh                 163    163    163\nlow                  161    161    161\nmedium               617    617    617 \n---------------------------------------\n\nfear \n                       id  tweet  class\nsentiment_intensity                   \nhigh                 270    270    270\nlow                  288    288    288\nmedium               699    699    699 \n---------------------------------------\n\njoy \n                       id  tweet  class\nsentiment_intensity                   \nhigh                 195    195    195\nlow                  219    219    219\nmedium               488    488    488 \n---------------------------------------\n\nsadness \n                       id  tweet  class\nsentiment_intensity                   \nhigh                 197    197    197\nlow                  210    210    210\nmedium               453    453    453 \n---------------------------------------\n\n"
     ],
     "output_type": "stream"
    }
   ],
   "source": [
    "def get_group_dist(group_name, train):\n",
    "    print(group_name, \"\\n\",\n",
    "          train[group_name].groupby('sentiment_intensity').count(),\n",
    "          '\\n---------------------------------------\\n')\n",
    "for dataset_name in train:\n",
    "    get_group_dist(dataset_name, train)"
   ]
  },
  {
   "cell_type": "markdown",
   "metadata": {
    "colab_type": "text",
    "id": "nyqmE30oCAxc"
   },
   "source": [
    "### Balance de Clases"
   ]
  },
  {
   "cell_type": "code",
   "execution_count": 34,
   "metadata": {
    "colab": {},
    "colab_type": "code",
    "id": "q0aQopQlMCI9",
    "pycharm": {
     "is_executing": false
    }
   },
   "outputs": [],
   "source": [
    "from sklearn.utils import resample"
   ]
  },
  {
   "cell_type": "markdown",
   "metadata": {
    "colab_type": "text",
    "id": "LVE8N1M-LxNa"
   },
   "source": [
    "#### Balanceo de Clases ####"
   ]
  },
  {
   "cell_type": "code",
   "execution_count": 35,
   "metadata": {
    "colab": {
     "base_uri": "https://localhost:8080/",
     "height": 90
    },
    "colab_type": "code",
    "id": "V5W2njtMLuXf",
    "outputId": "08fe0309-80b8-426a-a0ed-c21749c49966",
    "pycharm": {
     "name": "#%%\n",
     "is_executing": false
    }
   },
   "outputs": [],
   "source": [
    "df_resampled = {}\n",
    "for key in train:\n",
    "    df = train.get(key)\n",
    "    high=df['sentiment_intensity']=='high'\n",
    "    high=df[high]\n",
    "    med=df['sentiment_intensity']=='medium'\n",
    "    med=df[med]\n",
    "    low=df['sentiment_intensity']=='low'\n",
    "    low=df[low]\n",
    "    downsample_size = max(len(low), len(high))\n",
    "    med_re= resample(med, \n",
    "                replace=False,    # sample without replacement\n",
    "                n_samples=downsample_size,     # to match minority class\n",
    "                random_state=123) # reproducible results\n",
    "\n",
    "    df_resampled[key] = pd.concat([med_re, high, low])\n",
    "    "
   ]
  },
  {
   "cell_type": "markdown",
   "metadata": {
    "colab_type": "text",
    "id": "EPIcYA2IM8jt"
   },
   "source": [
    "#### Features y Estimadores"
   ]
  },
  {
   "cell_type": "code",
   "execution_count": 36,
   "metadata": {
    "colab": {},
    "colab_type": "code",
    "id": "sRrZ8fCFCQk9",
    "pycharm": {
     "is_executing": false
    }
   },
   "outputs": [],
   "source": [
    "from nltk.corpus import opinion_lexicon\n"
   ]
  },
  {
   "cell_type": "code",
   "execution_count": 37,
   "metadata": {
    "ExecuteTime": {
     "end_time": "2020-04-07T15:44:21.128600Z",
     "start_time": "2020-04-07T15:44:21.119624Z"
    },
    "colab": {},
    "colab_type": "code",
    "id": "LsOWDM_8vKft",
    "pycharm": {
     "name": "#%%\n",
     "is_executing": false
    }
   },
   "outputs": [],
   "source": [
    "# Feature de ejemplo\n",
    "# https://scikit-learn.org/stable/data_transforms.html"
   ]
  },
  {
   "cell_type": "markdown",
   "metadata": {},
   "source": []
  },
  {
   "cell_type": "code",
   "execution_count": 38,
   "metadata": {
    "pycharm": {
     "name": "#%%\n",
     "is_executing": false
    }
   },
   "outputs": [],
   "source": [
    "class CountLenght(BaseEstimator, TransformerMixin):\n",
    "    def get_relevant_chars(self, tweet):\n",
    "        num_chars = len(tweet)\n",
    "        return [num_chars]\n",
    "\n",
    "    def transform(self, X, y=None):\n",
    "        chars = []\n",
    "        for tweet in X:\n",
    "            chars.append(self.get_relevant_chars(tweet))\n",
    "        return np.array(chars)\n",
    "\n",
    "    def fit(self, X, y=None):\n",
    "        return self"
   ]
  },
  {
   "cell_type": "markdown",
   "metadata": {},
   "source": []
  },
  {
   "cell_type": "code",
   "execution_count": 39,
   "metadata": {
    "pycharm": {
     "name": "#%%\n",
     "is_executing": false
    }
   },
   "outputs": [],
   "source": [
    "class CharsCountTransformer(BaseEstimator, TransformerMixin):\n",
    "    def get_relevant_chars(self, tweet):\n",
    "        num_hashtags = tweet.count('#')       #\n",
    "        num_exclamations = tweet.count('!')   #\n",
    "        num_interrogations = tweet.count('?') #\n",
    "        num_dots = tweet.count('.')           #\n",
    "        num_emojis = emojis.count(tweet)      #\n",
    "        return [num_hashtags, \n",
    "                num_exclamations, \n",
    "                num_interrogations, \n",
    "                num_emojis, \n",
    "                num_dots]\n",
    "\n",
    "    def transform(self, X, y=None):\n",
    "        chars = []\n",
    "        for tweet in X:\n",
    "            chars.append(self.get_relevant_chars(tweet))\n",
    "\n",
    "        return np.array(chars)\n",
    "\n",
    "    def fit(self, X, y=None):\n",
    "        return self"
   ]
  },
  {
   "cell_type": "markdown",
   "metadata": {},
   "source": []
  },
  {
   "cell_type": "code",
   "execution_count": 40,
   "metadata": {
    "pycharm": {
     "name": "#%%\n",
     "is_executing": false
    }
   },
   "outputs": [],
   "source": [
    "class MoodScore(BaseEstimator, TransformerMixin):\n",
    "    def negate(self, number, boolean):\n",
    "        if boolean:\n",
    "            return -number\n",
    "        else:\n",
    "            return  number\n",
    "\n",
    "    def transform(self, X, y=None):\n",
    "        sentiment_array=[]\n",
    "        sn = SenticNet()\n",
    "        for tweet in X:\n",
    "            moods = {\n",
    "                 '#sadness':0,\n",
    "                 '#disgust':0,\n",
    "                 '#joy':0,\n",
    "                 '#interest':0,\n",
    "                 '#admiration':0,\n",
    "                 '#anger':0,\n",
    "                 '#surprise':0,\n",
    "                 '#fear':0\n",
    "            }\n",
    "            mood_array = np.zeros(8)\n",
    "            tokenizer = TweetTokenizer()\n",
    "            tokens = tokenizer.tokenize(tweet)\n",
    "            tokens_neg = mark_negation(tokens)\n",
    "            for token in tokens_neg:\n",
    "                negated = False\n",
    "                if token[-4:] == \"_NEG\":\n",
    "                    negated = True\n",
    "                    token = token[:-4]\n",
    "                if token[:1] == \"#\":\n",
    "                    token = token[1:]\n",
    "                if token in sn.data:\n",
    "                    if sn.polarity_value(token) == 'positive':\n",
    "                        score = 1\n",
    "                    else:\n",
    "                        score = -1\n",
    "                    for tag in sn.moodtags(token):\n",
    "                        moods[tag] += self.negate(score, negated)\n",
    "\n",
    "            for idx, key in enumerate(moods):\n",
    "                mood_array[idx] = moods[key]\n",
    "\n",
    "\n",
    "            sentiment_array.append(mood_array)\n",
    "\n",
    "        return np.array(sentiment_array)\n",
    "\n",
    "    def fit(self, X, y=None):\n",
    "        return self\n",
    "\n"
   ]
  },
  {
   "cell_type": "markdown",
   "metadata": {},
   "source": []
  },
  {
   "cell_type": "code",
   "execution_count": 41,
   "metadata": {
    "pycharm": {
     "name": "#%%\n",
     "is_executing": false
    }
   },
   "outputs": [],
   "source": [
    "class WordEmbeddingsTransformer(BaseEstimator, TransformerMixin):\n",
    "    # Usa el diccionario y encuentra su origen\n",
    "    def __init__(self, model):\n",
    "      self.model = model\n",
    "\n",
    "    def transform(self, X, y=None):\n",
    "        aggregation = np.mean\n",
    "        tokenizer = TweetTokenizer()\n",
    "        doc_embeddings = []\n",
    "        for tweet in X:\n",
    "            tokens = tokenizer.tokenize(tweet)\n",
    "            selected_words = []\n",
    "            for token in tokens:\n",
    "                if token in self.model.vocab:\n",
    "                    selected_words.append(self.model[token])\n",
    "            \n",
    "            if len(selected_words) > 0:\n",
    "                doc_emb = aggregation(np.array(selected_words), axis = 0)\n",
    "                doc_embeddings.append(doc_emb)\n",
    "            else:\n",
    "                doc_embeddings.append(np.zeros(self.model.vector_size))\n",
    "\n",
    "        return np.array(doc_embeddings)\n",
    "\n",
    "    def fit(self, X, y=None):\n",
    "        return self"
   ]
  },
  {
   "cell_type": "markdown",
   "metadata": {
    "pycharm": {
     "name": "#%% md\n"
    }
   },
   "source": []
  },
  {
   "cell_type": "code",
   "execution_count": 42,
   "metadata": {
    "pycharm": {
     "name": "#%%\n",
     "is_executing": false
    }
   },
   "outputs": [],
   "source": [
    "# Template para una feature\n",
    "class SentimentLexicon(BaseEstimator, TransformerMixin):\n",
    "    def fun(self, tweet):\n",
    "        tokenizer = TweetTokenizer()\n",
    "        tweet=tweet.replace(\"#\",'')\n",
    "        t=tokenizer.tokenize(tweet)\n",
    "        pos_list=set(opinion_lexicon.positive())\n",
    "        neg_list=set(opinion_lexicon.negative())\n",
    "        pos_words=0\n",
    "        neg_words=0\n",
    "        for i in t:\n",
    "            if i in pos_list:\n",
    "                pos_words=pos_words+1\n",
    "            elif i in neg_list:\n",
    "                neg_words=neg_words+1\n",
    "        return [pos_words,neg_words]\n",
    "    \n",
    "    def transform(self, X, y=None):\n",
    "        a_list = []\n",
    "        for tweet in X:\n",
    "            a_list.append(self.fun(tweet))\n",
    "        return a_list\n",
    "\n",
    "    def fit(self, X, y=None):\n",
    "        return self\n",
    " \n",
    " "
   ]
  },
  {
   "cell_type": "code",
   "execution_count": 43,
   "metadata": {
    "pycharm": {
     "name": "#%%     \n",
     "is_executing": false
    }
   },
   "outputs": [],
   "source": [
    "class UpperLetters(BaseEstimator, TransformerMixin):\n",
    "    def fun(self, tweet):\n",
    "        tokenizer=TweetTokenizer()\n",
    "        t=tokenizer.tokenize(tweet)\n",
    "        largo=len(t)\n",
    "        num_Upper=0\n",
    "        for i in t:\n",
    "            if i.isupper() and len(i)>1:\n",
    "                num_Upper=num_Upper+1\n",
    "        return [num_Upper/largo]\n",
    "    \n",
    "    def transform(self, X, y=None):\n",
    "        a_list = []\n",
    "        for tweet in X:\n",
    "            a_list.append(self.fun(tweet))\n",
    "        return a_list\n",
    "\n",
    "    def fit(self, X, y=None):\n",
    "        return self\n"
   ]
  },
  {
   "cell_type": "code",
   "execution_count": 44,
   "metadata": {
    "pycharm": {
     "name": "#%%\n",
     "is_executing": false
    }
   },
   "outputs": [],
   "source": [
    "class CurseWords(BaseEstimator, TransformerMixin):\n",
    "    def countCurseWords(self, tweet):\n",
    "        t=TweetTokenizer().tokenize(tweet)\n",
    "        x=0\n",
    "        for i in t:\n",
    "            if profanity.contains_profanity(i):\n",
    "                x=x+1\n",
    "        return [x]\n",
    "        \n",
    "    def transform(self, X, y=None):\n",
    "        a_list = []\n",
    "        for tweet in X:\n",
    "            a_list.append(self.countCurseWords(tweet))\n",
    "        return a_list\n",
    "\n",
    "    def fit(self, X, y=None):\n",
    "        return self"
   ]
  },
  {
   "cell_type": "markdown",
   "metadata": {
    "pycharm": {
     "name": "#%% md\n"
    }
   },
   "source": [
    "Se contó tambien el número de emoticones que"
   ]
  },
  {
   "cell_type": "code",
   "execution_count": 45,
   "metadata": {
    "pycharm": {
     "name": "#%%\n",
     "is_executing": false
    }
   },
   "outputs": [],
   "source": [
    "class Emoticons(BaseEstimator, TransformerMixin):\n",
    "    def fun(self, tweet):\n",
    "        happy_faces=tweet.count(':)')\n",
    "        happy_faces=tweet.count(':D')+happy_faces\n",
    "        sad_faces=tweet.count(':(')\n",
    "        return [happy_faces,sad_faces]\n",
    "        \n",
    "    def transform(self, X, y=None):\n",
    "        a_list = []\n",
    "        for tweet in X:\n",
    "            a_list.append(self.fun(tweet))\n",
    "        return a_list\n",
    "\n",
    "    def fit(self, X, y=None):\n",
    "        return self\n",
    "  \n"
   ]
  },
  {
   "cell_type": "code",
   "execution_count": 46,
   "metadata": {
    "colab": {},
    "colab_type": "code",
    "id": "qTMLlbK76DAL",
    "pycharm": {
     "name": "#%%\n",
     "is_executing": false
    }
   },
   "outputs": [],
   "source": [
    "# Estimator\n",
    "estimator = LogisticRegression(max_iter=1000000, multi_class=\"ovr\")\n",
    "# estimator2 = LogisticRegression(max_iter=1000000)\n",
    "from sklearn.neural_network import MLPClassifier\n",
    "estimator3 =MLPClassifier(random_state=1, max_iter=300)\n",
    "t_tokenizer = TweetTokenizer()\n"
   ]
  },
  {
   "cell_type": "markdown",
   "metadata": {
    "colab_type": "text",
    "id": "vnuia6l26DAP"
   },
   "source": [
    "#### Pipeline ####"
   ]
  },
  {
   "cell_type": "code",
   "execution_count": 56,
   "metadata": {
    "colab": {},
    "colab_type": "code",
    "id": "XpDytuKx6DAP",
    "pycharm": {
     "name": "#%%\n",
     "is_executing": false
    }
   },
   "outputs": [],
   "source": [
    "def sad_pipeline():\n",
    "    return Pipeline([('features',\n",
    "                      FeatureUnion([\n",
    "                                    ('n-gram', CountVectorizer(analyzer='word', \n",
    "                                                               ngram_range=(1, 4),\n",
    "                                                               tokenizer=t_tokenizer.tokenize,\n",
    "                                                               preprocessor = mark_negation,\n",
    "                                                               max_features=170\n",
    "                                                               )),\n",
    "                                    ('length_count', CountLenght()),\n",
    "                                    ('chars_count', CharsCountTransformer()),\n",
    "                                    ('upperletters', UpperLetters()),\n",
    "                                    ('sentiment',SentimentLexicon()),\n",
    "                                    ('cursewords',CurseWords()),\n",
    "                                    # ('word_embeddings', WordEmbeddingsTransformer(model)),\n",
    "                                    ('emoticons',Emoticons()),\n",
    "                                    ('sentiment_score',  MoodScore())\n",
    "                                    ])), ('clf', estimator)])\n",
    "\n",
    "def angry_pipeline():\n",
    "    return Pipeline([('features',\n",
    "                      FeatureUnion([\n",
    "                                    ('n-gram', CountVectorizer(analyzer='word', \n",
    "                                                               ngram_range=(1, 4),\n",
    "                                                               tokenizer=t_tokenizer.tokenize,\n",
    "                                                               preprocessor = mark_negation,\n",
    "                                                               max_features=170\n",
    "                                                               )),\n",
    "                                    ('length_count', CountLenght()),\n",
    "                                    ('chars_count', CharsCountTransformer()),\n",
    "                                    ('upperletters', UpperLetters()),\n",
    "                                    ('sentiment',SentimentLexicon()),\n",
    "                                    ('cursewords',CurseWords()),\n",
    "                                    # ('word_embeddings', WordEmbeddingsTransformer(model)),\n",
    "                                    ('emoticons',Emoticons()),\n",
    "                                    ('sentiment_score', MoodScore())\n",
    "                                    ])), ('clf', estimator)])\n",
    "    \n",
    "def fear_pipeline():\n",
    "    return Pipeline([('features',\n",
    "                      FeatureUnion([\n",
    "                                    ('n-gram', CountVectorizer(analyzer='word', \n",
    "                                                               ngram_range=(1, 4),\n",
    "                                                               tokenizer=t_tokenizer.tokenize,\n",
    "                                                               preprocessor = mark_negation,\n",
    "                                                               max_features=170\n",
    "                                                               )),\n",
    "                                    ('length_count', CountLenght()),\n",
    "                                    ('chars_count', CharsCountTransformer()),\n",
    "                                    ('upperletters', UpperLetters()),\n",
    "                                    ('sentiment',SentimentLexicon()),\n",
    "                                    ('cursewords',CurseWords()),\n",
    "                                    # ('word_embeddings', WordEmbeddingsTransformer(model)),\n",
    "                                    ('emoticons',Emoticons()),\n",
    "                                    ('sentiment_score',  MoodScore())\n",
    "                                    ])), ('clf', estimator)])\n",
    "\n",
    "def joy_pipeline():\n",
    "    return Pipeline([('features',\n",
    "                      FeatureUnion([\n",
    "                                    ('n-gram', CountVectorizer(analyzer='word', \n",
    "                                                               ngram_range=(1, 4),\n",
    "                                                               tokenizer=t_tokenizer.tokenize,\n",
    "                                                               preprocessor = mark_negation,\n",
    "                                                               max_features=170\n",
    "                                                               )),\n",
    "                                    ('length_count', CountLenght()),\n",
    "                                    ('chars_count', CharsCountTransformer()),\n",
    "                                    ('upperletters', UpperLetters()),\n",
    "                                    ('sentiment',SentimentLexicon()),\n",
    "                                    ('cursewords',CurseWords()),\n",
    "                                    # ('word_embeddings', WordEmbeddingsTransformer(model)),\n",
    "                                    ('emoticons',Emoticons()),\n",
    "                                    ('sentiment_score', MoodScore())\n",
    "                                    ])), ('clf', estimator)])"
   ]
  },
  {
   "cell_type": "code",
   "execution_count": 57,
   "metadata": {
    "colab": {},
    "colab_type": "code",
    "id": "OybMyiAF6DAV",
    "pycharm": {
     "name": "#%%\n",
     "is_executing": false
    }
   },
   "outputs": [],
   "source": [
    "# Ejecutar el pipeline para algun data-set\n",
    "def run(dataset, dataset_name, pipeline):\n",
    "    \"\"\"Creamos el pipeline y luego lo ejecutamos el pipeline sobre un dataset. \n",
    "    Retorna el modelo ya entrenado mas sus labels asociadas y los scores obtenidos al evaluarlo.\"\"\"\n",
    "\n",
    "    # Dividimos el dataset en train y test.\n",
    "    X_train, X_test, y_train, y_test = train_test_split(\n",
    "        dataset.tweet,\n",
    "        dataset.sentiment_intensity,\n",
    "        shuffle=True,\n",
    "        test_size=0.33)\n",
    "\n",
    "    # Entrenamos el clasificador (Ejecuta el entrenamiento sobre todo el pipeline)\n",
    "    pipeline.fit(X_train, y_train)\n",
    "\n",
    "    # Predecimos las probabilidades de intensidad de cada elemento del set de prueba.\n",
    "    predicted_probabilities = pipeline.predict_proba(X_test)\n",
    "\n",
    "    # Obtenemos el orden de las clases aprendidas.\n",
    "    learned_labels = pipeline.classes_\n",
    "\n",
    "    # Evaluamos:\n",
    "    scores = evaulate(predicted_probabilities, y_test, learned_labels, dataset_name)\n",
    "    return pipeline, learned_labels, scores\n",
    "    "
   ]
  },
  {
   "cell_type": "markdown",
   "metadata": {
    "colab_type": "text",
    "id": "pTe6kzfU6DAZ",
    "pycharm": {
     "name": "#%% md\n"
    }
   },
   "source": [
    "# Experiments\n"
   ]
  },
  {
   "cell_type": "code",
   "execution_count": 58,
   "metadata": {
    "colab": {
     "base_uri": "https://localhost:8080/",
     "height": 1000
    },
    "colab_type": "code",
    "id": "qtGMBZ6w6DAc",
    "outputId": "193cfed8-1240-458c-d879-f6517f197944",
    "pycharm": {
     "name": "#%%\n",
     "is_executing": false
    }
   },
   "outputs": [
    {
     "name": "stdout",
     "text": [
      "Confusion Matrix for anger:\n\n[[27 17  5]\n [23 15 19]\n [13 13 29]]\n\nClassification Report:\n\n              precision    recall  f1-score   support\n\n         low       0.43      0.55      0.48        49\n      medium       0.33      0.26      0.29        57\n        high       0.55      0.53      0.54        55\n\n    accuracy                           0.44       161\n   macro avg       0.44      0.45      0.44       161\nweighted avg       0.44      0.44      0.43       161\n\nanger\tScores:\n\nAUC:  0.636\tKappa: 0.165\tAccuracy: 0.441\n------------------------------------------------------\n\n",
      "Confusion Matrix for fear:\n\n[[58 26  7]\n [42 32 22]\n [22 23 48]]\n\nClassification Report:\n\n              precision    recall  f1-score   support\n\n         low       0.48      0.64      0.54        91\n      medium       0.40      0.33      0.36        96\n        high       0.62      0.52      0.56        93\n\n    accuracy                           0.49       280\n   macro avg       0.50      0.50      0.49       280\nweighted avg       0.50      0.49      0.49       280\n\nfear\tScores:\n\nAUC:  0.676\tKappa: 0.241\tAccuracy: 0.493\n------------------------------------------------------\n\n",
      "Confusion Matrix for joy:\n\n[[49 16  5]\n [22 33 21]\n [12 14 37]]\n\nClassification Report:\n\n              precision    recall  f1-score   support\n\n         low       0.59      0.70      0.64        70\n      medium       0.52      0.43      0.47        76\n        high       0.59      0.59      0.59        63\n\n    accuracy                           0.57       209\n   macro avg       0.57      0.57      0.57       209\nweighted avg       0.57      0.57      0.56       209\n\njoy\tScores:\n\nAUC:  0.71\tKappa: 0.354\tAccuracy: 0.569\n------------------------------------------------------\n\n",
      "Confusion Matrix for sadness:\n\n[[45 25 10]\n [17 24 13]\n [15 21 34]]\n\nClassification Report:\n\n              precision    recall  f1-score   support\n\n         low       0.58      0.56      0.57        80\n      medium       0.34      0.44      0.39        54\n        high       0.60      0.49      0.54        70\n\n    accuracy                           0.50       204\n   macro avg       0.51      0.50      0.50       204\nweighted avg       0.52      0.50      0.51       204\n\nsadness\tScores:\n\nAUC:  0.7\tKappa: 0.256\tAccuracy: 0.505\n------------------------------------------------------\n\nAverage scores:\n\n Average AUC: 0.681\t Average Kappa: 0.254\t Average Accuracy: 0.502\n"
     ],
     "output_type": "stream"
    }
   ],
   "source": [
    "pipelines = {'anger':angry_pipeline(), 'fear':fear_pipeline(), 'joy':joy_pipeline(), 'sadness':sad_pipeline()}\n",
    "\n",
    "# Get clasif/labels/scores\n",
    "classifiers = []\n",
    "learned_labels_array = []\n",
    "scores_array = []\n",
    "\n",
    "for dataset_name, dataset in train.items():\n",
    "\n",
    "    # creamos el pipeline\n",
    "    pipeline = pipelines.get(dataset_name)\n",
    "\n",
    "    # ejecutamos el pipeline sobre el dataset\n",
    "    classifier, learned_labels, scores = run(df_resampled.get(dataset_name), dataset_name, pipeline)\n",
    "\n",
    "    # guardamos el clasificador entrenado (en realidad es el pipeline ya entrenado...)\n",
    "    classifiers.append(classifier)\n",
    "\n",
    "    # guardamos las labels aprendidas por el clasificador\n",
    "    learned_labels_array.append(learned_labels)\n",
    "\n",
    "    # guardamos los scores obtenidos\n",
    "    scores_array.append(scores)\n",
    "\n",
    "\n",
    "# print avg scores\n",
    "print(\n",
    "    \"Average scores:\\n\\n\",\n",
    "    \"Average AUC: {0:.3g}\\t Average Kappa: {1:.3g}\\t Average Accuracy: {2:.3g}\"\n",
    "    .format(*np.array(scores_array).mean(axis=0)))\n"
   ]
  },
  {
   "cell_type": "markdown",
   "metadata": {
    "ExecuteTime": {
     "end_time": "2019-08-21T19:37:43.169737Z",
     "start_time": "2019-08-21T19:37:43.166744Z"
    },
    "colab_type": "text",
    "id": "9kKHJB1hvKgc"
   },
   "source": [
    "### Predecir los target set y crear la submission\n",
    "\n",
    "Aquí predecimos los target set usando los clasificadores creados y creamos los archivos de las submissions."
   ]
  },
  {
   "cell_type": "code",
   "execution_count": 59,
   "metadata": {
    "ExecuteTime": {
     "end_time": "2020-04-07T15:44:21.392097Z",
     "start_time": "2020-04-07T15:44:21.386114Z"
    },
    "colab": {},
    "colab_type": "code",
    "id": "J2n-WL2VvKgd",
    "pycharm": {
     "is_executing": false
    }
   },
   "outputs": [],
   "source": [
    "def predict_target(dataset, classifier, labels):\n",
    "    # Predecir las probabilidades de intensidad de cada elemento del target set.\n",
    "    predicted = pd.DataFrame(classifier.predict_proba(dataset.tweet), columns=labels)\n",
    "    # Agregar ids\n",
    "    predicted['id'] = dataset.id.values\n",
    "    # Reordenar las columnas\n",
    "    predicted = predicted[['id', 'low', 'medium', 'high']]\n",
    "    return predicted"
   ]
  },
  {
   "cell_type": "code",
   "execution_count": 60,
   "metadata": {
    "ExecuteTime": {
     "end_time": "2020-04-07T15:44:21.588573Z",
     "start_time": "2020-04-07T15:44:21.394094Z"
    },
    "colab": {
     "base_uri": "https://localhost:8080/",
     "height": 395
    },
    "colab_type": "code",
    "id": "67FPoKJUvKgk",
    "outputId": "cf3fec35-f5fc-43f6-9dc5-b71fcf24d5ef",
    "scrolled": true,
    "pycharm": {
     "is_executing": false
    }
   },
   "outputs": [
    {
     "name": "stdout",
     "text": [
      "{'anger':         id       low    medium      high\n0    10941  0.324646  0.660869  0.014486\n1    10942  0.470774  0.047647  0.481579\n2    10943  0.633418  0.105575  0.261007\n3    10944  0.328572  0.629688  0.041740\n4    10945  0.413769  0.569926  0.016304\n..     ...       ...       ...       ...\n755  11696  0.728234  0.161698  0.110068\n756  11697  0.622549  0.052810  0.324641\n757  11698  0.497133  0.474464  0.028403\n758  11699  0.594333  0.393670  0.011997\n759  11700  0.597863  0.178339  0.223798\n\n[760 rows x 4 columns], 'fear':         id       low    medium      high\n0    21257  0.850356  0.140548  0.009096\n1    21258  0.207506  0.616255  0.176240\n2    21259  0.871017  0.106909  0.022074\n3    21260  0.615060  0.087711  0.297229\n4    21261  0.049924  0.021374  0.928702\n..     ...       ...       ...       ...\n990  22247  0.542654  0.456515  0.000831\n991  22248  0.503373  0.375121  0.121506\n992  22249  0.129627  0.736452  0.133922\n993  22250  0.263273  0.720712  0.016015\n994  22251  0.386703  0.478914  0.134382\n\n[995 rows x 4 columns], 'joy':         id       low    medium      high\n0    30902  0.725510  0.044907  0.229583\n1    30903  0.569580  0.058956  0.371464\n2    30904  0.610460  0.172332  0.217208\n3    30905  0.269803  0.571470  0.158727\n4    30906  0.432425  0.009975  0.557600\n..     ...       ...       ...       ...\n709  31611  0.735384  0.078820  0.185797\n710  31612  0.521027  0.126908  0.352065\n711  31613  0.588048  0.388646  0.023306\n712  31614  0.771439  0.227317  0.001244\n713  31615  0.932114  0.039280  0.028606\n\n[714 rows x 4 columns], 'sadness':         id       low    medium      high\n0    40860  0.602942  0.014824  0.382234\n1    40861  0.871359  0.013557  0.115084\n2    40862  0.305853  0.689935  0.004212\n3    40863  0.241945  0.329361  0.428694\n4    40864  0.137501  0.017835  0.844664\n..     ...       ...       ...       ...\n668  41528  0.323097  0.358115  0.318788\n669  41529  0.041837  0.488580  0.469583\n670  41530  0.091633  0.782775  0.125592\n671  41531  0.166981  0.215604  0.617414\n672  41532  0.246378  0.750472  0.003151\n\n[673 rows x 4 columns]}\n"
     ],
     "output_type": "stream"
    }
   ],
   "source": [
    "predicted_target = {}\n",
    "\n",
    "# Crear carpeta ./predictions\n",
    "if (not os.path.exists('./predictions')):\n",
    "    os.mkdir('./predictions')\n",
    "\n",
    "else:\n",
    "    # Eliminar predicciones anteriores:\n",
    "    shutil.rmtree('./predictions')\n",
    "    os.mkdir('./predictions')\n",
    "\n",
    "# por cada target set:\n",
    "for idx, key in enumerate(target):\n",
    "    # Predecirlo\n",
    "    predicted_target[key] = predict_target(target[key], classifiers[idx],\n",
    "                                           learned_labels_array[idx])\n",
    "    # Guardar predicciones en archivos separados. \n",
    "    predicted_target[key].to_csv('./predictions/{}-pred.txt'.format(key),\n",
    "                                 sep='\\t',\n",
    "                                 header=False,\n",
    "                                 index=False)\n",
    "\n",
    "# Crear archivo zip\n",
    "a = shutil.make_archive('predictions', 'zip', './predictions')\n",
    "\n",
    "print(predicted_target)"
   ]
  },
  {
   "cell_type": "markdown",
   "metadata": {
    "colab_type": "text",
    "id": "XG1HKffVvKgq"
   },
   "source": [
    "## 6. Conclusiones"
   ]
  },
  {
   "cell_type": "markdown",
   "metadata": {
    "colab_type": "text",
    "id": "GTJLC8nNvKgr"
   },
   "source": [
    "..."
   ]
  }
 ],
 "metadata": {
  "colab": {
   "collapsed_sections": [],
   "name": "t1.ipynb",
   "provenance": [],
   "toc_visible": true
  },
  "kernelspec": {
   "display_name": "Python 3",
   "language": "python",
   "name": "python3"
  },
  "language_info": {
   "codemirror_mode": {
    "name": "ipython",
    "version": 3
   },
   "file_extension": ".py",
   "mimetype": "text/x-python",
   "name": "python",
   "nbconvert_exporter": "python",
   "pygments_lexer": "ipython3",
   "version": "3.7.7"
  },
  "pycharm": {
   "stem_cell": {
    "cell_type": "raw",
    "source": [],
    "metadata": {
     "collapsed": false
    }
   }
  },
  "toc": {
   "base_numbering": 1,
   "nav_menu": {},
   "number_sections": true,
   "sideBar": true,
   "skip_h1_title": true,
   "title_cell": "Table of Contents",
   "title_sidebar": "Contents",
   "toc_cell": true,
   "toc_position": {},
   "toc_section_display": true,
   "toc_window_display": false
  },
  "varInspector": {
   "cols": {
    "lenName": 16,
    "lenType": 16,
    "lenVar": 40
   },
   "kernels_config": {
    "python": {
     "delete_cmd_postfix": "",
     "delete_cmd_prefix": "del ",
     "library": "var_list.py",
     "varRefreshCmd": "print(var_dic_list())"
    },
    "r": {
     "delete_cmd_postfix": ") ",
     "delete_cmd_prefix": "rm(",
     "library": "var_list.r",
     "varRefreshCmd": "cat(var_dic_list()) "
    }
   },
   "types_to_exclude": [
    "module",
    "function",
    "builtin_function_or_method",
    "instance",
    "_Feature"
   ],
   "window_display": false
  }
 },
 "nbformat": 4,
 "nbformat_minor": 1
}